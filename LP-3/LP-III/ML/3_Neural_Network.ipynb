{
 "cells": [
  {
   "cell_type": "code",
   "execution_count": 1,
   "metadata": {
    "id": "atw2Xac9I0xl"
   },
   "outputs": [],
   "source": [
    "import numpy as np\n",
    "import matplotlib.pyplot as plt\n",
    "import pandas as pd\n",
    "import seaborn as sns\n",
    "sns.set()"
   ]
  },
  {
   "cell_type": "code",
   "execution_count": 2,
   "metadata": {
    "colab": {
     "base_uri": "https://localhost:8080/",
     "height": 302
    },
    "id": "NPfi2q75I0xl",
    "outputId": "1f049900-3b13-433a-fa05-c439e3d9c2de"
   },
   "outputs": [
    {
     "data": {
      "text/html": [
       "<div>\n",
       "<style scoped>\n",
       "    .dataframe tbody tr th:only-of-type {\n",
       "        vertical-align: middle;\n",
       "    }\n",
       "\n",
       "    .dataframe tbody tr th {\n",
       "        vertical-align: top;\n",
       "    }\n",
       "\n",
       "    .dataframe thead th {\n",
       "        text-align: right;\n",
       "    }\n",
       "</style>\n",
       "<table border=\"1\" class=\"dataframe\">\n",
       "  <thead>\n",
       "    <tr style=\"text-align: right;\">\n",
       "      <th></th>\n",
       "      <th>CustomerId</th>\n",
       "      <th>Surname</th>\n",
       "      <th>CreditScore</th>\n",
       "      <th>Geography</th>\n",
       "      <th>Gender</th>\n",
       "      <th>Age</th>\n",
       "      <th>Tenure</th>\n",
       "      <th>Balance</th>\n",
       "      <th>NumOfProducts</th>\n",
       "      <th>HasCrCard</th>\n",
       "      <th>IsActiveMember</th>\n",
       "      <th>EstimatedSalary</th>\n",
       "      <th>Exited</th>\n",
       "    </tr>\n",
       "    <tr>\n",
       "      <th>RowNumber</th>\n",
       "      <th></th>\n",
       "      <th></th>\n",
       "      <th></th>\n",
       "      <th></th>\n",
       "      <th></th>\n",
       "      <th></th>\n",
       "      <th></th>\n",
       "      <th></th>\n",
       "      <th></th>\n",
       "      <th></th>\n",
       "      <th></th>\n",
       "      <th></th>\n",
       "      <th></th>\n",
       "    </tr>\n",
       "  </thead>\n",
       "  <tbody>\n",
       "    <tr>\n",
       "      <th>1</th>\n",
       "      <td>15634602</td>\n",
       "      <td>Hargrave</td>\n",
       "      <td>619</td>\n",
       "      <td>France</td>\n",
       "      <td>Female</td>\n",
       "      <td>42</td>\n",
       "      <td>2</td>\n",
       "      <td>0.00</td>\n",
       "      <td>1</td>\n",
       "      <td>1</td>\n",
       "      <td>1</td>\n",
       "      <td>101348.88</td>\n",
       "      <td>1</td>\n",
       "    </tr>\n",
       "    <tr>\n",
       "      <th>2</th>\n",
       "      <td>15647311</td>\n",
       "      <td>Hill</td>\n",
       "      <td>608</td>\n",
       "      <td>Spain</td>\n",
       "      <td>Female</td>\n",
       "      <td>41</td>\n",
       "      <td>1</td>\n",
       "      <td>83807.86</td>\n",
       "      <td>1</td>\n",
       "      <td>0</td>\n",
       "      <td>1</td>\n",
       "      <td>112542.58</td>\n",
       "      <td>0</td>\n",
       "    </tr>\n",
       "    <tr>\n",
       "      <th>3</th>\n",
       "      <td>15619304</td>\n",
       "      <td>Onio</td>\n",
       "      <td>502</td>\n",
       "      <td>France</td>\n",
       "      <td>Female</td>\n",
       "      <td>42</td>\n",
       "      <td>8</td>\n",
       "      <td>159660.80</td>\n",
       "      <td>3</td>\n",
       "      <td>1</td>\n",
       "      <td>0</td>\n",
       "      <td>113931.57</td>\n",
       "      <td>1</td>\n",
       "    </tr>\n",
       "    <tr>\n",
       "      <th>4</th>\n",
       "      <td>15701354</td>\n",
       "      <td>Boni</td>\n",
       "      <td>699</td>\n",
       "      <td>France</td>\n",
       "      <td>Female</td>\n",
       "      <td>39</td>\n",
       "      <td>1</td>\n",
       "      <td>0.00</td>\n",
       "      <td>2</td>\n",
       "      <td>0</td>\n",
       "      <td>0</td>\n",
       "      <td>93826.63</td>\n",
       "      <td>0</td>\n",
       "    </tr>\n",
       "    <tr>\n",
       "      <th>5</th>\n",
       "      <td>15737888</td>\n",
       "      <td>Mitchell</td>\n",
       "      <td>850</td>\n",
       "      <td>Spain</td>\n",
       "      <td>Female</td>\n",
       "      <td>43</td>\n",
       "      <td>2</td>\n",
       "      <td>125510.82</td>\n",
       "      <td>1</td>\n",
       "      <td>1</td>\n",
       "      <td>1</td>\n",
       "      <td>79084.10</td>\n",
       "      <td>0</td>\n",
       "    </tr>\n",
       "  </tbody>\n",
       "</table>\n",
       "</div>"
      ],
      "text/plain": [
       "           CustomerId   Surname  CreditScore Geography  Gender  Age  Tenure  \\\n",
       "RowNumber                                                                     \n",
       "1            15634602  Hargrave          619    France  Female   42       2   \n",
       "2            15647311      Hill          608     Spain  Female   41       1   \n",
       "3            15619304      Onio          502    France  Female   42       8   \n",
       "4            15701354      Boni          699    France  Female   39       1   \n",
       "5            15737888  Mitchell          850     Spain  Female   43       2   \n",
       "\n",
       "             Balance  NumOfProducts  HasCrCard  IsActiveMember  \\\n",
       "RowNumber                                                        \n",
       "1               0.00              1          1               1   \n",
       "2           83807.86              1          0               1   \n",
       "3          159660.80              3          1               0   \n",
       "4               0.00              2          0               0   \n",
       "5          125510.82              1          1               1   \n",
       "\n",
       "           EstimatedSalary  Exited  \n",
       "RowNumber                           \n",
       "1                101348.88       1  \n",
       "2                112542.58       0  \n",
       "3                113931.57       1  \n",
       "4                 93826.63       0  \n",
       "5                 79084.10       0  "
      ]
     },
     "execution_count": 2,
     "metadata": {},
     "output_type": "execute_result"
    }
   ],
   "source": [
    "dataset = pd.read_csv('Churn_Modelling.csv', index_col = 'RowNumber')\n",
    "dataset.head()\n"
   ]
  },
  {
   "cell_type": "code",
   "execution_count": 3,
   "metadata": {
    "colab": {
     "base_uri": "https://localhost:8080/"
    },
    "id": "jelFHwknI0xm",
    "outputId": "e8e8af69-44e3-4b72-84cf-e15d6b026a5f"
   },
   "outputs": [
    {
     "name": "stdout",
     "output_type": "stream",
     "text": [
      "['CreditScore', 'Geography', 'Gender', 'Age', 'Tenure', 'Balance', 'NumOfProducts', 'HasCrCard', 'IsActiveMember', 'EstimatedSalary']\n",
      "['Exited']\n"
     ]
    }
   ],
   "source": [
    "#Customer ID and Surname would not be relevant as features\n",
    "X_columns = dataset.columns.tolist()[2:12]\n",
    "Y_columns = dataset.columns.tolist()[-1:]\n",
    "print(X_columns)\n",
    "print(Y_columns)"
   ]
  },
  {
   "cell_type": "code",
   "execution_count": 4,
   "metadata": {
    "id": "_EnXaCYmI0xn"
   },
   "outputs": [],
   "source": [
    "X = dataset[X_columns].values \n",
    "Y = dataset[Y_columns].values"
   ]
  },
  {
   "cell_type": "code",
   "execution_count": 5,
   "metadata": {
    "id": "cjbVx3FRI0xn"
   },
   "outputs": [],
   "source": [
    "#We need to encode categorical variables such as geography and gender\n",
    "from sklearn.preprocessing import LabelEncoder\n",
    "X_column_transformer = LabelEncoder()\n",
    "X[:, 1] = X_column_transformer.fit_transform(X[:, 1])"
   ]
  },
  {
   "cell_type": "code",
   "execution_count": 6,
   "metadata": {
    "id": "tS02t4y9I0xn"
   },
   "outputs": [],
   "source": [
    "#Lets Encode gender now\n",
    "X[:, 2] = X_column_transformer.fit_transform(X[:, 2])"
   ]
  },
  {
   "cell_type": "markdown",
   "metadata": {
    "id": "DKwFc-HWI0xo"
   },
   "source": [
    "We are treating countries with ordinal values(0 < 1 < 2) but they are incomparable.\n",
    "To solve this we can use one hot encoding.\n",
    "We will perform some standardization "
   ]
  },
  {
   "cell_type": "code",
   "execution_count": 7,
   "metadata": {
    "id": "v-bI9UNiI0xo"
   },
   "outputs": [],
   "source": [
    "from sklearn.preprocessing import StandardScaler, OneHotEncoder\n",
    "from sklearn.compose import ColumnTransformer\n",
    "from sklearn.pipeline import Pipeline\n",
    "\n",
    "pipeline = Pipeline(\n",
    "    [\n",
    "        ('Categorizer', ColumnTransformer(\n",
    "            [\n",
    "                (\"Gender Label Encoder\", OneHotEncoder(categories = 'auto', drop = 'first'), [2]),\n",
    "                (\"Geography Label Encoder\", OneHotEncoder(categories = 'auto', drop = 'first'), [1])\n",
    "            ], \n",
    "            remainder = 'passthrough', n_jobs = 1)),\n",
    "        ('Normalizer', StandardScaler())\n",
    "    ]\n",
    ")"
   ]
  },
  {
   "cell_type": "code",
   "execution_count": 8,
   "metadata": {
    "id": "7_TO_-fQI0xp"
   },
   "outputs": [],
   "source": [
    "#Standardize the features\n",
    "X = pipeline.fit_transform(X)"
   ]
  },
  {
   "cell_type": "code",
   "execution_count": 9,
   "metadata": {
    "id": "OJ7VUetiI0xq"
   },
   "outputs": [],
   "source": [
    "#Spilt the data\n",
    "from sklearn.model_selection import train_test_split\n",
    "X_train, X_test, y_train, y_test = train_test_split(X, Y, test_size = 0.2, random_state = 0)"
   ]
  },
  {
   "cell_type": "code",
   "execution_count": 10,
   "metadata": {
    "id": "mX35INUFI0xr"
   },
   "outputs": [],
   "source": [
    "#Let us create the Neural Network\n",
    "from keras.models import Sequential\n",
    "from keras.layers import Dense, Dropout"
   ]
  },
  {
   "cell_type": "code",
   "execution_count": 11,
   "metadata": {
    "id": "VYIsyqOUI0xs"
   },
   "outputs": [],
   "source": [
    "#Initialize ANN\n",
    "classifier = Sequential()"
   ]
  },
  {
   "cell_type": "code",
   "execution_count": 12,
   "metadata": {
    "id": "i3nH8oOhJcp8"
   },
   "outputs": [],
   "source": [
    "#Add input layer and hidden layer\n",
    "classifier.add(Dense(6, activation = 'relu', input_shape = (X_train.shape[1], )))\n",
    "classifier.add(Dropout(rate = 0.1))"
   ]
  },
  {
   "cell_type": "code",
   "execution_count": 13,
   "metadata": {
    "id": "gULE3c-YPvsI"
   },
   "outputs": [],
   "source": [
    "#Add second layer\n",
    "classifier.add(Dense(6, activation = 'relu'))\n",
    "classifier.add(Dropout(rate = 0.1))"
   ]
  },
  {
   "cell_type": "code",
   "execution_count": 14,
   "metadata": {
    "id": "j_XpNLaSP9Qk"
   },
   "outputs": [],
   "source": [
    "#Add output layer\n",
    "classifier.add(Dense(1, activation = 'sigmoid'))"
   ]
  },
  {
   "cell_type": "code",
   "execution_count": 15,
   "metadata": {
    "colab": {
     "base_uri": "https://localhost:8080/"
    },
    "id": "5rodKUhIQUWH",
    "outputId": "a8dd63ea-6662-41f3-a43b-4f3f4567a06d"
   },
   "outputs": [
    {
     "name": "stdout",
     "output_type": "stream",
     "text": [
      "Model: \"sequential\"\n",
      "_________________________________________________________________\n",
      "Layer (type)                 Output Shape              Param #   \n",
      "=================================================================\n",
      "dense (Dense)                (None, 6)                 72        \n",
      "_________________________________________________________________\n",
      "dropout (Dropout)            (None, 6)                 0         \n",
      "_________________________________________________________________\n",
      "dense_1 (Dense)              (None, 6)                 42        \n",
      "_________________________________________________________________\n",
      "dropout_1 (Dropout)          (None, 6)                 0         \n",
      "_________________________________________________________________\n",
      "dense_2 (Dense)              (None, 1)                 7         \n",
      "=================================================================\n",
      "Total params: 121\n",
      "Trainable params: 121\n",
      "Non-trainable params: 0\n",
      "_________________________________________________________________\n"
     ]
    }
   ],
   "source": [
    "#Let us take a look at our network\n",
    "classifier.summary()"
   ]
  },
  {
   "cell_type": "code",
   "execution_count": 16,
   "metadata": {
    "id": "XfHGyyviSXed"
   },
   "outputs": [],
   "source": [
    "#Optimize the weights\n",
    "classifier.compile(optimizer = 'adam', loss = 'binary_crossentropy', metrics = ['accuracy'])"
   ]
  },
  {
   "cell_type": "code",
   "execution_count": 17,
   "metadata": {
    "colab": {
     "base_uri": "https://localhost:8080/"
    },
    "id": "7px7qzJQVhan",
    "outputId": "09d47fa7-684c-424c-f144-e86492bcfa24"
   },
   "outputs": [
    {
     "name": "stdout",
     "output_type": "stream",
     "text": [
      "Epoch 1/200\n",
      "225/225 - 15s - loss: 0.6117 - accuracy: 0.7186 - val_loss: 0.5217 - val_accuracy: 0.7925\n",
      "Epoch 2/200\n",
      "225/225 - 0s - loss: 0.4991 - accuracy: 0.7969 - val_loss: 0.4626 - val_accuracy: 0.7950\n",
      "Epoch 3/200\n",
      "225/225 - 0s - loss: 0.4719 - accuracy: 0.8001 - val_loss: 0.4423 - val_accuracy: 0.8000\n",
      "Epoch 4/200\n",
      "225/225 - 0s - loss: 0.4587 - accuracy: 0.8022 - val_loss: 0.4284 - val_accuracy: 0.8037\n",
      "Epoch 5/200\n",
      "225/225 - 0s - loss: 0.4462 - accuracy: 0.8069 - val_loss: 0.4182 - val_accuracy: 0.8062\n",
      "Epoch 6/200\n",
      "225/225 - 0s - loss: 0.4419 - accuracy: 0.8099 - val_loss: 0.4113 - val_accuracy: 0.8050\n",
      "Epoch 7/200\n",
      "225/225 - 0s - loss: 0.4345 - accuracy: 0.8125 - val_loss: 0.4041 - val_accuracy: 0.8125\n",
      "Epoch 8/200\n",
      "225/225 - 0s - loss: 0.4258 - accuracy: 0.8161 - val_loss: 0.3973 - val_accuracy: 0.8163\n",
      "Epoch 9/200\n",
      "225/225 - 0s - loss: 0.4219 - accuracy: 0.8210 - val_loss: 0.3915 - val_accuracy: 0.8213\n",
      "Epoch 10/200\n",
      "225/225 - 0s - loss: 0.4170 - accuracy: 0.8232 - val_loss: 0.3869 - val_accuracy: 0.8238\n",
      "Epoch 11/200\n",
      "225/225 - 0s - loss: 0.4109 - accuracy: 0.8246 - val_loss: 0.3832 - val_accuracy: 0.8238\n",
      "Epoch 12/200\n",
      "225/225 - 0s - loss: 0.4056 - accuracy: 0.8274 - val_loss: 0.3787 - val_accuracy: 0.8313\n",
      "Epoch 13/200\n",
      "225/225 - 0s - loss: 0.4030 - accuracy: 0.8271 - val_loss: 0.3754 - val_accuracy: 0.8338\n",
      "Epoch 14/200\n",
      "225/225 - 0s - loss: 0.3997 - accuracy: 0.8301 - val_loss: 0.3702 - val_accuracy: 0.8388\n",
      "Epoch 15/200\n",
      "225/225 - 0s - loss: 0.3979 - accuracy: 0.8342 - val_loss: 0.3666 - val_accuracy: 0.8400\n",
      "Epoch 16/200\n",
      "225/225 - 0s - loss: 0.3948 - accuracy: 0.8313 - val_loss: 0.3626 - val_accuracy: 0.8425\n",
      "Epoch 17/200\n",
      "225/225 - 0s - loss: 0.3914 - accuracy: 0.8363 - val_loss: 0.3593 - val_accuracy: 0.8450\n",
      "Epoch 18/200\n",
      "225/225 - 0s - loss: 0.3888 - accuracy: 0.8360 - val_loss: 0.3552 - val_accuracy: 0.8462\n",
      "Epoch 19/200\n",
      "225/225 - 0s - loss: 0.3888 - accuracy: 0.8389 - val_loss: 0.3546 - val_accuracy: 0.8487\n",
      "Epoch 20/200\n",
      "225/225 - 0s - loss: 0.3887 - accuracy: 0.8396 - val_loss: 0.3524 - val_accuracy: 0.8525\n",
      "Epoch 21/200\n",
      "225/225 - 0s - loss: 0.3891 - accuracy: 0.8385 - val_loss: 0.3509 - val_accuracy: 0.8550\n",
      "Epoch 22/200\n",
      "225/225 - 0s - loss: 0.3843 - accuracy: 0.8404 - val_loss: 0.3503 - val_accuracy: 0.8525\n",
      "Epoch 23/200\n",
      "225/225 - 0s - loss: 0.3818 - accuracy: 0.8414 - val_loss: 0.3486 - val_accuracy: 0.8550\n",
      "Epoch 24/200\n",
      "225/225 - 0s - loss: 0.3798 - accuracy: 0.8462 - val_loss: 0.3470 - val_accuracy: 0.8612\n",
      "Epoch 25/200\n",
      "225/225 - 0s - loss: 0.3739 - accuracy: 0.8467 - val_loss: 0.3449 - val_accuracy: 0.8625\n",
      "Epoch 26/200\n",
      "225/225 - 0s - loss: 0.3792 - accuracy: 0.8457 - val_loss: 0.3448 - val_accuracy: 0.8625\n",
      "Epoch 27/200\n",
      "225/225 - 0s - loss: 0.3789 - accuracy: 0.8456 - val_loss: 0.3447 - val_accuracy: 0.8625\n",
      "Epoch 28/200\n",
      "225/225 - 0s - loss: 0.3802 - accuracy: 0.8453 - val_loss: 0.3441 - val_accuracy: 0.8625\n",
      "Epoch 29/200\n",
      "225/225 - 0s - loss: 0.3816 - accuracy: 0.8446 - val_loss: 0.3452 - val_accuracy: 0.8600\n",
      "Epoch 30/200\n",
      "225/225 - 0s - loss: 0.3776 - accuracy: 0.8436 - val_loss: 0.3431 - val_accuracy: 0.8637\n",
      "Epoch 31/200\n",
      "225/225 - 0s - loss: 0.3793 - accuracy: 0.8428 - val_loss: 0.3422 - val_accuracy: 0.8675\n",
      "Epoch 32/200\n",
      "225/225 - 0s - loss: 0.3775 - accuracy: 0.8439 - val_loss: 0.3412 - val_accuracy: 0.8662\n",
      "Epoch 33/200\n",
      "225/225 - 0s - loss: 0.3793 - accuracy: 0.8421 - val_loss: 0.3423 - val_accuracy: 0.8650\n",
      "Epoch 34/200\n",
      "225/225 - 0s - loss: 0.3746 - accuracy: 0.8442 - val_loss: 0.3414 - val_accuracy: 0.8650\n",
      "Epoch 35/200\n",
      "225/225 - 0s - loss: 0.3718 - accuracy: 0.8447 - val_loss: 0.3411 - val_accuracy: 0.8625\n",
      "Epoch 36/200\n",
      "225/225 - 0s - loss: 0.3727 - accuracy: 0.8456 - val_loss: 0.3398 - val_accuracy: 0.8637\n",
      "Epoch 37/200\n",
      "225/225 - 0s - loss: 0.3772 - accuracy: 0.8425 - val_loss: 0.3409 - val_accuracy: 0.8612\n",
      "Epoch 38/200\n",
      "225/225 - 0s - loss: 0.3732 - accuracy: 0.8460 - val_loss: 0.3396 - val_accuracy: 0.8675\n",
      "Epoch 39/200\n",
      "225/225 - 0s - loss: 0.3803 - accuracy: 0.8449 - val_loss: 0.3403 - val_accuracy: 0.8625\n",
      "Epoch 40/200\n",
      "225/225 - 0s - loss: 0.3777 - accuracy: 0.8450 - val_loss: 0.3417 - val_accuracy: 0.8612\n",
      "Epoch 41/200\n",
      "225/225 - 0s - loss: 0.3679 - accuracy: 0.8461 - val_loss: 0.3396 - val_accuracy: 0.8650\n",
      "Epoch 42/200\n",
      "225/225 - 0s - loss: 0.3767 - accuracy: 0.8436 - val_loss: 0.3413 - val_accuracy: 0.8625\n",
      "Epoch 43/200\n",
      "225/225 - 0s - loss: 0.3750 - accuracy: 0.8450 - val_loss: 0.3409 - val_accuracy: 0.8625\n",
      "Epoch 44/200\n",
      "225/225 - 0s - loss: 0.3762 - accuracy: 0.8422 - val_loss: 0.3426 - val_accuracy: 0.8625\n",
      "Epoch 45/200\n",
      "225/225 - 0s - loss: 0.3667 - accuracy: 0.8462 - val_loss: 0.3408 - val_accuracy: 0.8612\n",
      "Epoch 46/200\n",
      "225/225 - 0s - loss: 0.3754 - accuracy: 0.8468 - val_loss: 0.3406 - val_accuracy: 0.8662\n",
      "Epoch 47/200\n",
      "225/225 - 0s - loss: 0.3732 - accuracy: 0.8449 - val_loss: 0.3389 - val_accuracy: 0.8612\n",
      "Epoch 48/200\n",
      "225/225 - 0s - loss: 0.3746 - accuracy: 0.8458 - val_loss: 0.3407 - val_accuracy: 0.8612\n",
      "Epoch 49/200\n",
      "225/225 - 0s - loss: 0.3724 - accuracy: 0.8490 - val_loss: 0.3401 - val_accuracy: 0.8625\n",
      "Epoch 50/200\n",
      "225/225 - 0s - loss: 0.3758 - accuracy: 0.8438 - val_loss: 0.3403 - val_accuracy: 0.8625\n",
      "Epoch 51/200\n",
      "225/225 - 0s - loss: 0.3765 - accuracy: 0.8439 - val_loss: 0.3412 - val_accuracy: 0.8600\n",
      "Epoch 52/200\n",
      "225/225 - 0s - loss: 0.3745 - accuracy: 0.8442 - val_loss: 0.3397 - val_accuracy: 0.8612\n",
      "Epoch 53/200\n",
      "225/225 - 0s - loss: 0.3741 - accuracy: 0.8462 - val_loss: 0.3400 - val_accuracy: 0.8587\n",
      "Epoch 54/200\n",
      "225/225 - 0s - loss: 0.3736 - accuracy: 0.8462 - val_loss: 0.3404 - val_accuracy: 0.8650\n",
      "Epoch 55/200\n",
      "225/225 - 0s - loss: 0.3733 - accuracy: 0.8447 - val_loss: 0.3400 - val_accuracy: 0.8562\n",
      "Epoch 56/200\n",
      "225/225 - 0s - loss: 0.3715 - accuracy: 0.8451 - val_loss: 0.3391 - val_accuracy: 0.8587\n",
      "Epoch 57/200\n",
      "225/225 - 0s - loss: 0.3698 - accuracy: 0.8475 - val_loss: 0.3397 - val_accuracy: 0.8637\n",
      "Epoch 58/200\n",
      "225/225 - 0s - loss: 0.3667 - accuracy: 0.8454 - val_loss: 0.3390 - val_accuracy: 0.8575\n",
      "Epoch 59/200\n",
      "225/225 - 0s - loss: 0.3632 - accuracy: 0.8490 - val_loss: 0.3378 - val_accuracy: 0.8587\n",
      "Epoch 60/200\n",
      "225/225 - 0s - loss: 0.3674 - accuracy: 0.8474 - val_loss: 0.3380 - val_accuracy: 0.8587\n",
      "Epoch 61/200\n",
      "225/225 - 0s - loss: 0.3790 - accuracy: 0.8424 - val_loss: 0.3392 - val_accuracy: 0.8575\n",
      "Epoch 62/200\n",
      "225/225 - 0s - loss: 0.3715 - accuracy: 0.8468 - val_loss: 0.3388 - val_accuracy: 0.8612\n",
      "Epoch 63/200\n",
      "225/225 - 0s - loss: 0.3749 - accuracy: 0.8429 - val_loss: 0.3396 - val_accuracy: 0.8575\n",
      "Epoch 64/200\n",
      "225/225 - 0s - loss: 0.3771 - accuracy: 0.8443 - val_loss: 0.3400 - val_accuracy: 0.8587\n",
      "Epoch 65/200\n",
      "225/225 - 0s - loss: 0.3700 - accuracy: 0.8493 - val_loss: 0.3390 - val_accuracy: 0.8587\n",
      "Epoch 66/200\n",
      "225/225 - 0s - loss: 0.3770 - accuracy: 0.8474 - val_loss: 0.3394 - val_accuracy: 0.8587\n",
      "Epoch 67/200\n",
      "225/225 - 0s - loss: 0.3709 - accuracy: 0.8457 - val_loss: 0.3401 - val_accuracy: 0.8600\n",
      "Epoch 68/200\n",
      "225/225 - 0s - loss: 0.3717 - accuracy: 0.8432 - val_loss: 0.3390 - val_accuracy: 0.8600\n",
      "Epoch 69/200\n",
      "225/225 - 0s - loss: 0.3695 - accuracy: 0.8469 - val_loss: 0.3373 - val_accuracy: 0.8612\n",
      "Epoch 70/200\n",
      "225/225 - 0s - loss: 0.3716 - accuracy: 0.8481 - val_loss: 0.3392 - val_accuracy: 0.8562\n",
      "Epoch 71/200\n",
      "225/225 - 0s - loss: 0.3722 - accuracy: 0.8438 - val_loss: 0.3394 - val_accuracy: 0.8600\n",
      "Epoch 72/200\n",
      "225/225 - 0s - loss: 0.3678 - accuracy: 0.8469 - val_loss: 0.3391 - val_accuracy: 0.8550\n",
      "Epoch 73/200\n",
      "225/225 - 0s - loss: 0.3715 - accuracy: 0.8453 - val_loss: 0.3379 - val_accuracy: 0.8575\n",
      "Epoch 74/200\n",
      "225/225 - 0s - loss: 0.3723 - accuracy: 0.8454 - val_loss: 0.3384 - val_accuracy: 0.8587\n",
      "Epoch 75/200\n",
      "225/225 - 0s - loss: 0.3707 - accuracy: 0.8449 - val_loss: 0.3386 - val_accuracy: 0.8587\n",
      "Epoch 76/200\n",
      "225/225 - 0s - loss: 0.3725 - accuracy: 0.8453 - val_loss: 0.3366 - val_accuracy: 0.8625\n",
      "Epoch 77/200\n",
      "225/225 - 0s - loss: 0.3672 - accuracy: 0.8481 - val_loss: 0.3365 - val_accuracy: 0.8575\n",
      "Epoch 78/200\n",
      "225/225 - 0s - loss: 0.3717 - accuracy: 0.8454 - val_loss: 0.3388 - val_accuracy: 0.8562\n",
      "Epoch 79/200\n",
      "225/225 - 0s - loss: 0.3700 - accuracy: 0.8469 - val_loss: 0.3371 - val_accuracy: 0.8587\n",
      "Epoch 80/200\n",
      "225/225 - 0s - loss: 0.3712 - accuracy: 0.8481 - val_loss: 0.3381 - val_accuracy: 0.8587\n",
      "Epoch 81/200\n",
      "225/225 - 0s - loss: 0.3711 - accuracy: 0.8453 - val_loss: 0.3397 - val_accuracy: 0.8562\n",
      "Epoch 82/200\n",
      "225/225 - 0s - loss: 0.3701 - accuracy: 0.8471 - val_loss: 0.3381 - val_accuracy: 0.8575\n",
      "Epoch 83/200\n",
      "225/225 - 0s - loss: 0.3674 - accuracy: 0.8494 - val_loss: 0.3366 - val_accuracy: 0.8625\n",
      "Epoch 84/200\n",
      "225/225 - 0s - loss: 0.3726 - accuracy: 0.8442 - val_loss: 0.3371 - val_accuracy: 0.8600\n",
      "Epoch 85/200\n",
      "225/225 - 0s - loss: 0.3663 - accuracy: 0.8482 - val_loss: 0.3358 - val_accuracy: 0.8562\n",
      "Epoch 86/200\n",
      "225/225 - 0s - loss: 0.3682 - accuracy: 0.8465 - val_loss: 0.3377 - val_accuracy: 0.8562\n",
      "Epoch 87/200\n",
      "225/225 - 0s - loss: 0.3699 - accuracy: 0.8475 - val_loss: 0.3377 - val_accuracy: 0.8562\n",
      "Epoch 88/200\n",
      "225/225 - 0s - loss: 0.3757 - accuracy: 0.8465 - val_loss: 0.3383 - val_accuracy: 0.8537\n",
      "Epoch 89/200\n",
      "225/225 - 0s - loss: 0.3675 - accuracy: 0.8468 - val_loss: 0.3370 - val_accuracy: 0.8612\n",
      "Epoch 90/200\n",
      "225/225 - 0s - loss: 0.3724 - accuracy: 0.8458 - val_loss: 0.3372 - val_accuracy: 0.8600\n",
      "Epoch 91/200\n",
      "225/225 - 0s - loss: 0.3737 - accuracy: 0.8444 - val_loss: 0.3366 - val_accuracy: 0.8550\n",
      "Epoch 92/200\n",
      "225/225 - 0s - loss: 0.3656 - accuracy: 0.8478 - val_loss: 0.3357 - val_accuracy: 0.8550\n",
      "Epoch 93/200\n",
      "225/225 - 0s - loss: 0.3734 - accuracy: 0.8449 - val_loss: 0.3355 - val_accuracy: 0.8575\n",
      "Epoch 94/200\n",
      "225/225 - 0s - loss: 0.3687 - accuracy: 0.8479 - val_loss: 0.3369 - val_accuracy: 0.8600\n",
      "Epoch 95/200\n",
      "225/225 - 0s - loss: 0.3715 - accuracy: 0.8450 - val_loss: 0.3352 - val_accuracy: 0.8587\n",
      "Epoch 96/200\n",
      "225/225 - 0s - loss: 0.3643 - accuracy: 0.8479 - val_loss: 0.3344 - val_accuracy: 0.8562\n",
      "Epoch 97/200\n",
      "225/225 - 0s - loss: 0.3695 - accuracy: 0.8449 - val_loss: 0.3347 - val_accuracy: 0.8600\n",
      "Epoch 98/200\n",
      "225/225 - 0s - loss: 0.3695 - accuracy: 0.8474 - val_loss: 0.3362 - val_accuracy: 0.8587\n",
      "Epoch 99/200\n",
      "225/225 - 0s - loss: 0.3699 - accuracy: 0.8460 - val_loss: 0.3356 - val_accuracy: 0.8587\n",
      "Epoch 100/200\n",
      "225/225 - 0s - loss: 0.3654 - accuracy: 0.8497 - val_loss: 0.3367 - val_accuracy: 0.8600\n",
      "Epoch 101/200\n",
      "225/225 - 0s - loss: 0.3650 - accuracy: 0.8510 - val_loss: 0.3345 - val_accuracy: 0.8575\n",
      "Epoch 102/200\n",
      "225/225 - 0s - loss: 0.3734 - accuracy: 0.8469 - val_loss: 0.3363 - val_accuracy: 0.8575\n",
      "Epoch 103/200\n",
      "225/225 - 0s - loss: 0.3684 - accuracy: 0.8487 - val_loss: 0.3372 - val_accuracy: 0.8587\n",
      "Epoch 104/200\n",
      "225/225 - 0s - loss: 0.3734 - accuracy: 0.8446 - val_loss: 0.3381 - val_accuracy: 0.8625\n",
      "Epoch 105/200\n",
      "225/225 - 0s - loss: 0.3710 - accuracy: 0.8431 - val_loss: 0.3377 - val_accuracy: 0.8575\n",
      "Epoch 106/200\n",
      "225/225 - 0s - loss: 0.3681 - accuracy: 0.8450 - val_loss: 0.3364 - val_accuracy: 0.8587\n",
      "Epoch 107/200\n",
      "225/225 - 0s - loss: 0.3683 - accuracy: 0.8483 - val_loss: 0.3384 - val_accuracy: 0.8612\n",
      "Epoch 108/200\n",
      "225/225 - 0s - loss: 0.3667 - accuracy: 0.8469 - val_loss: 0.3364 - val_accuracy: 0.8600\n",
      "Epoch 109/200\n",
      "225/225 - 0s - loss: 0.3676 - accuracy: 0.8460 - val_loss: 0.3371 - val_accuracy: 0.8587\n",
      "Epoch 110/200\n",
      "225/225 - 0s - loss: 0.3679 - accuracy: 0.8468 - val_loss: 0.3381 - val_accuracy: 0.8650\n",
      "Epoch 111/200\n",
      "225/225 - 0s - loss: 0.3657 - accuracy: 0.8467 - val_loss: 0.3366 - val_accuracy: 0.8575\n",
      "Epoch 112/200\n",
      "225/225 - 0s - loss: 0.3644 - accuracy: 0.8472 - val_loss: 0.3364 - val_accuracy: 0.8550\n",
      "Epoch 113/200\n",
      "225/225 - 0s - loss: 0.3667 - accuracy: 0.8464 - val_loss: 0.3371 - val_accuracy: 0.8575\n",
      "Epoch 114/200\n",
      "225/225 - 0s - loss: 0.3699 - accuracy: 0.8461 - val_loss: 0.3372 - val_accuracy: 0.8587\n",
      "Epoch 115/200\n",
      "225/225 - 0s - loss: 0.3655 - accuracy: 0.8474 - val_loss: 0.3382 - val_accuracy: 0.8625\n",
      "Epoch 116/200\n",
      "225/225 - 0s - loss: 0.3675 - accuracy: 0.8471 - val_loss: 0.3384 - val_accuracy: 0.8612\n",
      "Epoch 117/200\n",
      "225/225 - 0s - loss: 0.3662 - accuracy: 0.8457 - val_loss: 0.3387 - val_accuracy: 0.8600\n",
      "Epoch 118/200\n",
      "225/225 - 0s - loss: 0.3637 - accuracy: 0.8481 - val_loss: 0.3369 - val_accuracy: 0.8587\n",
      "Epoch 119/200\n",
      "225/225 - 0s - loss: 0.3659 - accuracy: 0.8471 - val_loss: 0.3376 - val_accuracy: 0.8600\n",
      "Epoch 120/200\n",
      "225/225 - 0s - loss: 0.3684 - accuracy: 0.8479 - val_loss: 0.3387 - val_accuracy: 0.8562\n",
      "Epoch 121/200\n",
      "225/225 - 0s - loss: 0.3661 - accuracy: 0.8467 - val_loss: 0.3373 - val_accuracy: 0.8600\n",
      "Epoch 122/200\n",
      "225/225 - 0s - loss: 0.3610 - accuracy: 0.8476 - val_loss: 0.3357 - val_accuracy: 0.8600\n",
      "Epoch 123/200\n",
      "225/225 - 0s - loss: 0.3663 - accuracy: 0.8454 - val_loss: 0.3375 - val_accuracy: 0.8600\n",
      "Epoch 124/200\n",
      "225/225 - 0s - loss: 0.3692 - accuracy: 0.8460 - val_loss: 0.3372 - val_accuracy: 0.8587\n",
      "Epoch 125/200\n",
      "225/225 - 0s - loss: 0.3733 - accuracy: 0.8475 - val_loss: 0.3389 - val_accuracy: 0.8587\n",
      "Epoch 126/200\n",
      "225/225 - 0s - loss: 0.3662 - accuracy: 0.8482 - val_loss: 0.3387 - val_accuracy: 0.8562\n",
      "Epoch 127/200\n",
      "225/225 - 0s - loss: 0.3631 - accuracy: 0.8483 - val_loss: 0.3366 - val_accuracy: 0.8587\n",
      "Epoch 128/200\n",
      "225/225 - 0s - loss: 0.3640 - accuracy: 0.8467 - val_loss: 0.3373 - val_accuracy: 0.8562\n",
      "Epoch 129/200\n",
      "225/225 - 0s - loss: 0.3637 - accuracy: 0.8472 - val_loss: 0.3349 - val_accuracy: 0.8600\n",
      "Epoch 130/200\n",
      "225/225 - 0s - loss: 0.3673 - accuracy: 0.8471 - val_loss: 0.3373 - val_accuracy: 0.8612\n",
      "Epoch 131/200\n",
      "225/225 - 0s - loss: 0.3634 - accuracy: 0.8471 - val_loss: 0.3353 - val_accuracy: 0.8600\n",
      "Epoch 132/200\n",
      "225/225 - 0s - loss: 0.3630 - accuracy: 0.8482 - val_loss: 0.3356 - val_accuracy: 0.8587\n",
      "Epoch 133/200\n",
      "225/225 - 0s - loss: 0.3700 - accuracy: 0.8449 - val_loss: 0.3378 - val_accuracy: 0.8587\n",
      "Epoch 134/200\n",
      "225/225 - 0s - loss: 0.3696 - accuracy: 0.8468 - val_loss: 0.3379 - val_accuracy: 0.8587\n",
      "Epoch 135/200\n",
      "225/225 - 0s - loss: 0.3633 - accuracy: 0.8493 - val_loss: 0.3363 - val_accuracy: 0.8575\n",
      "Epoch 136/200\n",
      "225/225 - 0s - loss: 0.3660 - accuracy: 0.8482 - val_loss: 0.3371 - val_accuracy: 0.8612\n",
      "Epoch 137/200\n",
      "225/225 - 0s - loss: 0.3611 - accuracy: 0.8497 - val_loss: 0.3370 - val_accuracy: 0.8650\n",
      "Epoch 138/200\n",
      "225/225 - 0s - loss: 0.3700 - accuracy: 0.8435 - val_loss: 0.3385 - val_accuracy: 0.8612\n",
      "Epoch 139/200\n",
      "225/225 - 0s - loss: 0.3665 - accuracy: 0.8476 - val_loss: 0.3355 - val_accuracy: 0.8600\n",
      "Epoch 140/200\n",
      "225/225 - 0s - loss: 0.3634 - accuracy: 0.8436 - val_loss: 0.3379 - val_accuracy: 0.8587\n",
      "Epoch 141/200\n",
      "225/225 - 0s - loss: 0.3692 - accuracy: 0.8482 - val_loss: 0.3364 - val_accuracy: 0.8600\n",
      "Epoch 142/200\n",
      "225/225 - 0s - loss: 0.3657 - accuracy: 0.8458 - val_loss: 0.3375 - val_accuracy: 0.8562\n",
      "Epoch 143/200\n",
      "225/225 - 0s - loss: 0.3705 - accuracy: 0.8464 - val_loss: 0.3385 - val_accuracy: 0.8600\n",
      "Epoch 144/200\n",
      "225/225 - 0s - loss: 0.3633 - accuracy: 0.8490 - val_loss: 0.3364 - val_accuracy: 0.8650\n",
      "Epoch 145/200\n",
      "225/225 - 0s - loss: 0.3692 - accuracy: 0.8442 - val_loss: 0.3383 - val_accuracy: 0.8587\n",
      "Epoch 146/200\n",
      "225/225 - 0s - loss: 0.3639 - accuracy: 0.8485 - val_loss: 0.3366 - val_accuracy: 0.8612\n",
      "Epoch 147/200\n",
      "225/225 - 0s - loss: 0.3663 - accuracy: 0.8467 - val_loss: 0.3361 - val_accuracy: 0.8587\n",
      "Epoch 148/200\n",
      "225/225 - 0s - loss: 0.3721 - accuracy: 0.8449 - val_loss: 0.3363 - val_accuracy: 0.8600\n",
      "Epoch 149/200\n",
      "225/225 - 0s - loss: 0.3610 - accuracy: 0.8465 - val_loss: 0.3363 - val_accuracy: 0.8612\n",
      "Epoch 150/200\n",
      "225/225 - 0s - loss: 0.3632 - accuracy: 0.8478 - val_loss: 0.3352 - val_accuracy: 0.8600\n",
      "Epoch 151/200\n",
      "225/225 - 0s - loss: 0.3682 - accuracy: 0.8453 - val_loss: 0.3369 - val_accuracy: 0.8612\n",
      "Epoch 152/200\n",
      "225/225 - 0s - loss: 0.3681 - accuracy: 0.8462 - val_loss: 0.3372 - val_accuracy: 0.8612\n",
      "Epoch 153/200\n",
      "225/225 - 0s - loss: 0.3643 - accuracy: 0.8479 - val_loss: 0.3373 - val_accuracy: 0.8625\n",
      "Epoch 154/200\n",
      "225/225 - 0s - loss: 0.3643 - accuracy: 0.8472 - val_loss: 0.3372 - val_accuracy: 0.8600\n",
      "Epoch 155/200\n",
      "225/225 - 0s - loss: 0.3653 - accuracy: 0.8474 - val_loss: 0.3369 - val_accuracy: 0.8612\n",
      "Epoch 156/200\n",
      "225/225 - 0s - loss: 0.3665 - accuracy: 0.8451 - val_loss: 0.3365 - val_accuracy: 0.8587\n",
      "Epoch 157/200\n",
      "225/225 - 0s - loss: 0.3616 - accuracy: 0.8487 - val_loss: 0.3348 - val_accuracy: 0.8625\n",
      "Epoch 158/200\n",
      "225/225 - 0s - loss: 0.3678 - accuracy: 0.8460 - val_loss: 0.3364 - val_accuracy: 0.8625\n",
      "Epoch 159/200\n",
      "225/225 - 0s - loss: 0.3669 - accuracy: 0.8469 - val_loss: 0.3378 - val_accuracy: 0.8600\n",
      "Epoch 160/200\n",
      "225/225 - 0s - loss: 0.3599 - accuracy: 0.8487 - val_loss: 0.3374 - val_accuracy: 0.8587\n",
      "Epoch 161/200\n",
      "225/225 - 0s - loss: 0.3658 - accuracy: 0.8472 - val_loss: 0.3361 - val_accuracy: 0.8625\n",
      "Epoch 162/200\n",
      "225/225 - 0s - loss: 0.3690 - accuracy: 0.8456 - val_loss: 0.3393 - val_accuracy: 0.8587\n",
      "Epoch 163/200\n",
      "225/225 - 0s - loss: 0.3655 - accuracy: 0.8500 - val_loss: 0.3365 - val_accuracy: 0.8625\n",
      "Epoch 164/200\n",
      "225/225 - 0s - loss: 0.3598 - accuracy: 0.8465 - val_loss: 0.3361 - val_accuracy: 0.8575\n",
      "Epoch 165/200\n",
      "225/225 - 0s - loss: 0.3655 - accuracy: 0.8486 - val_loss: 0.3357 - val_accuracy: 0.8650\n",
      "Epoch 166/200\n",
      "225/225 - 0s - loss: 0.3603 - accuracy: 0.8482 - val_loss: 0.3346 - val_accuracy: 0.8612\n",
      "Epoch 167/200\n",
      "225/225 - 0s - loss: 0.3656 - accuracy: 0.8439 - val_loss: 0.3367 - val_accuracy: 0.8575\n",
      "Epoch 168/200\n",
      "225/225 - 0s - loss: 0.3623 - accuracy: 0.8479 - val_loss: 0.3375 - val_accuracy: 0.8650\n",
      "Epoch 169/200\n",
      "225/225 - 0s - loss: 0.3662 - accuracy: 0.8468 - val_loss: 0.3370 - val_accuracy: 0.8600\n",
      "Epoch 170/200\n",
      "225/225 - 0s - loss: 0.3682 - accuracy: 0.8450 - val_loss: 0.3387 - val_accuracy: 0.8612\n",
      "Epoch 171/200\n",
      "225/225 - 0s - loss: 0.3647 - accuracy: 0.8486 - val_loss: 0.3368 - val_accuracy: 0.8625\n",
      "Epoch 172/200\n",
      "225/225 - 0s - loss: 0.3594 - accuracy: 0.8494 - val_loss: 0.3362 - val_accuracy: 0.8587\n",
      "Epoch 173/200\n",
      "225/225 - 0s - loss: 0.3627 - accuracy: 0.8471 - val_loss: 0.3387 - val_accuracy: 0.8625\n",
      "Epoch 174/200\n",
      "225/225 - 0s - loss: 0.3642 - accuracy: 0.8468 - val_loss: 0.3379 - val_accuracy: 0.8562\n",
      "Epoch 175/200\n",
      "225/225 - 0s - loss: 0.3646 - accuracy: 0.8467 - val_loss: 0.3380 - val_accuracy: 0.8600\n",
      "Epoch 176/200\n",
      "225/225 - 0s - loss: 0.3657 - accuracy: 0.8479 - val_loss: 0.3389 - val_accuracy: 0.8625\n",
      "Epoch 177/200\n",
      "225/225 - 0s - loss: 0.3604 - accuracy: 0.8496 - val_loss: 0.3391 - val_accuracy: 0.8637\n",
      "Epoch 178/200\n",
      "225/225 - 0s - loss: 0.3663 - accuracy: 0.8451 - val_loss: 0.3368 - val_accuracy: 0.8587\n",
      "Epoch 179/200\n",
      "225/225 - 0s - loss: 0.3640 - accuracy: 0.8475 - val_loss: 0.3357 - val_accuracy: 0.8600\n",
      "Epoch 180/200\n",
      "225/225 - 0s - loss: 0.3671 - accuracy: 0.8453 - val_loss: 0.3381 - val_accuracy: 0.8600\n",
      "Epoch 181/200\n",
      "225/225 - 0s - loss: 0.3654 - accuracy: 0.8481 - val_loss: 0.3375 - val_accuracy: 0.8575\n",
      "Epoch 182/200\n",
      "225/225 - 0s - loss: 0.3658 - accuracy: 0.8483 - val_loss: 0.3396 - val_accuracy: 0.8600\n",
      "Epoch 183/200\n",
      "225/225 - 0s - loss: 0.3660 - accuracy: 0.8432 - val_loss: 0.3392 - val_accuracy: 0.8575\n",
      "Epoch 184/200\n",
      "225/225 - 0s - loss: 0.3652 - accuracy: 0.8490 - val_loss: 0.3398 - val_accuracy: 0.8587\n",
      "Epoch 185/200\n",
      "225/225 - 0s - loss: 0.3674 - accuracy: 0.8449 - val_loss: 0.3392 - val_accuracy: 0.8612\n",
      "Epoch 186/200\n",
      "225/225 - 0s - loss: 0.3631 - accuracy: 0.8468 - val_loss: 0.3381 - val_accuracy: 0.8575\n",
      "Epoch 187/200\n",
      "225/225 - 0s - loss: 0.3622 - accuracy: 0.8465 - val_loss: 0.3382 - val_accuracy: 0.8600\n",
      "Epoch 188/200\n",
      "225/225 - 0s - loss: 0.3679 - accuracy: 0.8464 - val_loss: 0.3410 - val_accuracy: 0.8562\n",
      "Epoch 189/200\n",
      "225/225 - 0s - loss: 0.3684 - accuracy: 0.8456 - val_loss: 0.3428 - val_accuracy: 0.8612\n",
      "Epoch 190/200\n",
      "225/225 - 0s - loss: 0.3666 - accuracy: 0.8475 - val_loss: 0.3384 - val_accuracy: 0.8575\n",
      "Epoch 191/200\n",
      "225/225 - 0s - loss: 0.3658 - accuracy: 0.8465 - val_loss: 0.3394 - val_accuracy: 0.8562\n",
      "Epoch 192/200\n",
      "225/225 - 0s - loss: 0.3610 - accuracy: 0.8471 - val_loss: 0.3389 - val_accuracy: 0.8587\n",
      "Epoch 193/200\n",
      "225/225 - 0s - loss: 0.3658 - accuracy: 0.8467 - val_loss: 0.3378 - val_accuracy: 0.8550\n",
      "Epoch 194/200\n",
      "225/225 - 0s - loss: 0.3616 - accuracy: 0.8476 - val_loss: 0.3364 - val_accuracy: 0.8587\n",
      "Epoch 195/200\n",
      "225/225 - 0s - loss: 0.3643 - accuracy: 0.8493 - val_loss: 0.3381 - val_accuracy: 0.8600\n",
      "Epoch 196/200\n",
      "225/225 - 0s - loss: 0.3614 - accuracy: 0.8468 - val_loss: 0.3382 - val_accuracy: 0.8625\n",
      "Epoch 197/200\n",
      "225/225 - 0s - loss: 0.3627 - accuracy: 0.8485 - val_loss: 0.3379 - val_accuracy: 0.8600\n",
      "Epoch 198/200\n",
      "225/225 - 0s - loss: 0.3633 - accuracy: 0.8465 - val_loss: 0.3373 - val_accuracy: 0.8575\n",
      "Epoch 199/200\n",
      "225/225 - 0s - loss: 0.3687 - accuracy: 0.8444 - val_loss: 0.3396 - val_accuracy: 0.8575\n",
      "Epoch 200/200\n",
      "225/225 - 0s - loss: 0.3665 - accuracy: 0.8461 - val_loss: 0.3377 - val_accuracy: 0.8587\n"
     ]
    }
   ],
   "source": [
    "#Fitting the Neural Network\n",
    "history = classifier.fit(X_train, y_train, batch_size = 32, epochs = 200, validation_split = 0.1, verbose = 2)"
   ]
  },
  {
   "cell_type": "code",
   "execution_count": 18,
   "metadata": {
    "colab": {
     "base_uri": "https://localhost:8080/"
    },
    "id": "aq1-eNM2YqL8",
    "outputId": "0fd0fa0a-cf54-4637-f8b6-f15342002a15"
   },
   "outputs": [
    {
     "name": "stdout",
     "output_type": "stream",
     "text": [
      "[[0.32293567]\n",
      " [0.31686765]\n",
      " [0.22650653]\n",
      " [0.11121964]\n",
      " [0.07013544]]\n"
     ]
    }
   ],
   "source": [
    "y_pred = classifier.predict(X_test)\n",
    "print(y_pred[:5])"
   ]
  },
  {
   "cell_type": "code",
   "execution_count": 19,
   "metadata": {
    "colab": {
     "base_uri": "https://localhost:8080/"
    },
    "id": "S8JJz5bLY-7I",
    "outputId": "00827497-0dfb-49c4-d70b-2071d70ae5f0"
   },
   "outputs": [
    {
     "name": "stdout",
     "output_type": "stream",
     "text": [
      "[[0]\n",
      " [0]\n",
      " [0]\n",
      " [0]\n",
      " [0]]\n"
     ]
    }
   ],
   "source": [
    "#Let us use confusion matrix with cutoff value as 0.5\n",
    "y_pred = (y_pred > 0.5).astype(int)\n",
    "print(y_pred[:5])"
   ]
  },
  {
   "cell_type": "code",
   "execution_count": 20,
   "metadata": {
    "colab": {
     "base_uri": "https://localhost:8080/"
    },
    "id": "Bcyv6h2UZPbO",
    "outputId": "6ca6b222-2516-4b03-c081-1ba7feaa6817"
   },
   "outputs": [
    {
     "name": "stdout",
     "output_type": "stream",
     "text": [
      "[[1554   41]\n",
      " [ 232  173]]\n"
     ]
    }
   ],
   "source": [
    "#Making the Matrix\n",
    "from sklearn.metrics import confusion_matrix\n",
    "cm = confusion_matrix(y_test, y_pred)\n",
    "print(cm)"
   ]
  },
  {
   "cell_type": "code",
   "execution_count": 21,
   "metadata": {
    "colab": {
     "base_uri": "https://localhost:8080/"
    },
    "id": "l3weViSLZc1v",
    "outputId": "64895b62-30f8-4e86-e592-d3fae20b2673"
   },
   "outputs": [
    {
     "name": "stdout",
     "output_type": "stream",
     "text": [
      "86.35 % of data was classified correctly\n"
     ]
    }
   ],
   "source": [
    "#Accuracy of our NN\n",
    "print(((cm[0][0] + cm[1][1])* 100) / len(y_test), '% of data was classified correctly')"
   ]
  }
 ],
 "metadata": {
  "colab": {
   "provenance": []
  },
  "interpreter": {
   "hash": "f82e9eef39fec3b4432bd3d531b07136b7f172564442eec42315ae171445fe6f"
  },
  "kernelspec": {
   "display_name": "Python 3 (ipykernel)",
   "language": "python",
   "name": "python3"
  },
  "language_info": {
   "codemirror_mode": {
    "name": "ipython",
    "version": 3
   },
   "file_extension": ".py",
   "mimetype": "text/x-python",
   "name": "python",
   "nbconvert_exporter": "python",
   "pygments_lexer": "ipython3",
   "version": "3.9.1"
  }
 },
 "nbformat": 4,
 "nbformat_minor": 1
}
