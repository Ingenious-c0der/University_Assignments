{
  "cells": [
    {
      "cell_type": "code",
      "execution_count": 1,
      "metadata": {
        "colab": {
          "base_uri": "https://localhost:8080/"
        },
        "id": "2vUXbMUKRfYO",
        "outputId": "6c4aa6ec-c52c-4fb8-e669-82a79621380e"
      },
      "outputs": [
        {
          "name": "stdout",
          "output_type": "stream",
          "text": [
            "Defaulting to user installation because normal site-packages is not writeable\n",
            "Requirement already satisfied: numpy in /Users/ingenious/Library/Python/3.9/lib/python/site-packages (1.23.5)\n",
            "Collecting numpy\n",
            "  Using cached numpy-1.26.4-cp39-cp39-macosx_11_0_arm64.whl.metadata (61 kB)\n",
            "Using cached numpy-1.26.4-cp39-cp39-macosx_11_0_arm64.whl (14.0 MB)\n",
            "Installing collected packages: numpy\n",
            "  Attempting uninstall: numpy\n",
            "    Found existing installation: numpy 1.23.5\n",
            "    Uninstalling numpy-1.23.5:\n",
            "      Successfully uninstalled numpy-1.23.5\n",
            "Successfully installed numpy-1.26.4\n"
          ]
        }
      ],
      "source": [
        "%pip install numpy --upgrade\n"
      ]
    },
    {
      "cell_type": "code",
      "execution_count": 8,
      "metadata": {
        "colab": {
          "base_uri": "https://localhost:8080/"
        },
        "id": "p_XCwHHtRm1H",
        "outputId": "c5edae1c-2401-4d0f-f980-78f075b15d88"
      },
      "outputs": [
        {
          "name": "stdout",
          "output_type": "stream",
          "text": [
            "Defaulting to user installation because normal site-packages is not writeable\n",
            "Requirement already satisfied: mahotas in /Users/ingenious/Library/Python/3.9/lib/python/site-packages (1.4.15)\n",
            "Requirement already satisfied: numpy in /Users/ingenious/Library/Python/3.9/lib/python/site-packages (from mahotas) (1.26.4)\n",
            "Note: you may need to restart the kernel to use updated packages.\n",
            "Defaulting to user installation because normal site-packages is not writeable\n",
            "Requirement already satisfied: opencv-python in /Users/ingenious/Library/Python/3.9/lib/python/site-packages (4.9.0.80)\n",
            "Requirement already satisfied: numpy>=1.21.0 in /Users/ingenious/Library/Python/3.9/lib/python/site-packages (from opencv-python) (1.26.4)\n",
            "Note: you may need to restart the kernel to use updated packages.\n",
            "Defaulting to user installation because normal site-packages is not writeable\n",
            "Collecting imutils\n",
            "  Downloading imutils-0.5.4.tar.gz (17 kB)\n",
            "  Preparing metadata (setup.py) ... \u001b[?25ldone\n",
            "\u001b[?25hBuilding wheels for collected packages: imutils\n",
            "  Building wheel for imutils (setup.py) ... \u001b[?25ldone\n",
            "\u001b[?25h  Created wheel for imutils: filename=imutils-0.5.4-py3-none-any.whl size=25860 sha256=be495c232622c75dfa368c78c57d9bf050c48d6092da03610e466065b8c1911e\n",
            "  Stored in directory: /Users/ingenious/Library/Caches/pip/wheels/4b/a5/2d/4a070a801d3a3d93f033d3ee9728f470f514826e89952df3ea\n",
            "Successfully built imutils\n",
            "Installing collected packages: imutils\n",
            "Successfully installed imutils-0.5.4\n",
            "Note: you may need to restart the kernel to use updated packages.\n"
          ]
        }
      ],
      "source": [
        "%pip install mahotas\n",
        "%pip install opencv-python\n",
        "#imutils \n",
        "%pip install imutils"
      ]
    },
    {
      "cell_type": "code",
      "execution_count": 13,
      "metadata": {
        "colab": {
          "base_uri": "https://localhost:8080/",
          "height": 1000
        },
        "id": "N2ptBdIQTD0C",
        "outputId": "8b50058d-2510-4c5f-ede0-4295caf9da05"
      },
      "outputs": [
        {
          "name": "stderr",
          "output_type": "stream",
          "text": [
            "/var/folders/f2/x5pcgwnj2bd857dq0jhrjb0h0000gn/T/ipykernel_85081/324335728.py:68: DeprecationWarning: `np.int0` is a deprecated alias for `np.intp`.  (Deprecated NumPy 1.24)\n",
            "  box = np.int0(cv2.cv.BoxPoints(box) if imutils.is_cv2() else cv2.boxPoints(box))\n",
            "/var/folders/f2/x5pcgwnj2bd857dq0jhrjb0h0000gn/T/ipykernel_85081/324335728.py:73: DeprecationWarning: `np.int0` is a deprecated alias for `np.intp`.  (Deprecated NumPy 1.24)\n",
            "  box = np.int0(cv2.cv.BoxPoints(box) if imutils.is_cv2() else cv2.boxPoints(box))\n"
          ]
        },
        {
          "ename": "",
          "evalue": "",
          "output_type": "error",
          "traceback": [
            "\u001b[1;31mThe Kernel crashed while executing code in the current cell or a previous cell. \n",
            "\u001b[1;31mPlease review the code in the cell(s) to identify a possible cause of the failure. \n",
            "\u001b[1;31mClick <a href='https://aka.ms/vscodeJupyterKernelCrash'>here</a> for more info. \n",
            "\u001b[1;31mView Jupyter <a href='command:jupyter.viewOutput'>log</a> for further details."
          ]
        }
      ],
      "source": [
        "# import the necessary packages\n",
        "from scipy.spatial import distance as dist\n",
        "import numpy as np\n",
        "import mahotas\n",
        "import cv2\n",
        "from cv2 import imshow as cvim\n",
        "import imutils\n",
        "  \n",
        "def describe_shapes(image):\n",
        "    # initialize the list of shape features\n",
        "    shapeFeatures = []\n",
        "  \n",
        "    # convert the image to grayscale, blur it, and threshold it\n",
        "    gray = cv2.cvtColor(image, cv2.COLOR_BGR2GRAY)\n",
        "    blurred = cv2.GaussianBlur(gray, (13, 13), 0)\n",
        "    thresh = cv2.threshold(blurred, 50, 255, cv2.THRESH_BINARY)[1]\n",
        "  \n",
        "    # perform a series of dilations and erosions to close holes\n",
        "    # in the shapes\n",
        "    thresh = cv2.dilate(thresh, None, iterations=4)\n",
        "    thresh = cv2.erode(thresh, None, iterations=2)\n",
        "  \n",
        "    # detect contours in the edge map\n",
        "    cnts = cv2.findContours(thresh.copy(), cv2.RETR_EXTERNAL,\n",
        "        cv2.CHAIN_APPROX_SIMPLE)\n",
        "    cnts = imutils.grab_contours(cnts)\n",
        "  \n",
        "    # loop over the contours\n",
        "    for c in cnts:\n",
        "        # create an empty mask for the contour and draw it\n",
        "        mask = np.zeros(image.shape[:2], dtype=\"uint8\")\n",
        "        cv2.drawContours(mask, [c], -1, 255, -1)\n",
        "  \n",
        "        # extract the bounding box ROI from the mask\n",
        "        (x, y, w, h) = cv2.boundingRect(c)\n",
        "        roi = mask[y:y + h, x:x + w]\n",
        "  \n",
        "        # compute Zernike Moments for the ROI and update the list\n",
        "        # of shape features\n",
        "        features = mahotas.features.zernike_moments(roi, cv2.minEnclosingCircle(c)[1], degree=8)\n",
        "        shapeFeatures.append(features)\n",
        "  \n",
        "    # return a tuple of the contours and shapes\n",
        "    return (cnts, shapeFeatures)\n",
        " \n",
        "# load the reference image containing the object we want to detect,\n",
        "# then describe the game region\n",
        "refImage = cv2.imread(\"pokemon_red.png\")\n",
        "(_, gameFeatures) = describe_shapes(refImage)\n",
        "  \n",
        "# load the shapes image, then describe each of the images in the image\n",
        "shapesImage = cv2.imread(\"shapes.png\")\n",
        "(cnts, shapeFeatures) = describe_shapes(shapesImage)\n",
        "  \n",
        "# compute the Euclidean distances between the video game features\n",
        "# and all other shapes in the second image, then find index of the\n",
        "# smallest distance\n",
        "D = dist.cdist(gameFeatures, shapeFeatures)\n",
        "i = np.argmin(D)\n",
        " \n",
        "# loop over the contours in the shapes image\n",
        "for (j, c) in enumerate(cnts):\n",
        "    # if the index of the current contour does not equal the index\n",
        "    # contour of the contour with the smallest distance, then draw\n",
        "    # it on the output image\n",
        "    if i != j:\n",
        "        box = cv2.minAreaRect(c)\n",
        "        box = np.int0(cv2.cv.BoxPoints(box) if imutils.is_cv2() else cv2.boxPoints(box))\n",
        "        cv2.drawContours(shapesImage, [box], -1, (0, 0, 255), 2)\n",
        "  \n",
        "# draw the bounding box around the detected shape\n",
        "box = cv2.minAreaRect(cnts[i])\n",
        "box = np.int0(cv2.cv.BoxPoints(box) if imutils.is_cv2() else cv2.boxPoints(box))\n",
        "cv2.drawContours(shapesImage, [box], -1, (0, 255, 0), 2)\n",
        "(x, y, w, h) = cv2.boundingRect(cnts[i])\n",
        "cv2.putText(shapesImage, \"FOUND!\", (x, y - 10), cv2.FONT_HERSHEY_SIMPLEX, 0.9,\n",
        "    (0, 255, 0), 3)\n",
        "  \n",
        "# show the output images\n",
        "cvim(\"Input\",refImage)\n",
        "cvim(\"Zernlike Feature Extraction\",shapesImage)\n",
        "cv2.waitKey(0)\n",
        "cv2.destroyAllWindows()"
      ]
    }
  ],
  "metadata": {
    "colab": {
      "provenance": []
    },
    "kernelspec": {
      "display_name": "Python 3",
      "name": "python3"
    },
    "language_info": {
      "codemirror_mode": {
        "name": "ipython",
        "version": 3
      },
      "file_extension": ".py",
      "mimetype": "text/x-python",
      "name": "python",
      "nbconvert_exporter": "python",
      "pygments_lexer": "ipython3",
      "version": "3.9.6"
    }
  },
  "nbformat": 4,
  "nbformat_minor": 0
}
