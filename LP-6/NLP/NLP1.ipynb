{
 "cells": [
  {
   "cell_type": "code",
   "execution_count": 1,
   "metadata": {},
   "outputs": [],
   "source": [
    "import numpy as np \n",
    "import pandas as pd\n",
    "import nltk "
   ]
  },
  {
   "cell_type": "code",
   "execution_count": 3,
   "metadata": {},
   "outputs": [],
   "source": [
    "sentence =  \"The organization's members are meeting to discuss various strategies for improving productivity, including implementing new technologies, enhancing communication channels, and streamlining workflow processes.\""
   ]
  },
  {
   "cell_type": "code",
   "execution_count": 4,
   "metadata": {},
   "outputs": [
    {
     "name": "stdout",
     "output_type": "stream",
     "text": [
      "['The', \"organization's\", 'members', 'are', 'meeting', 'to', 'discuss', 'various', 'strategies', 'for', 'improving', 'productivity,', 'including', 'implementing', 'new', 'technologies,', 'enhancing', 'communication', 'channels,', 'and', 'streamlining', 'workflow', 'processes.']\n"
     ]
    }
   ],
   "source": [
    "#whitespace tokenizer \n",
    "from nltk.tokenize import WhitespaceTokenizer\n",
    "whitespace_tokenized = WhitespaceTokenizer().tokenize(sentence)\n",
    "print(whitespace_tokenized)\n",
    "\n"
   ]
  },
  {
   "cell_type": "code",
   "execution_count": 5,
   "metadata": {},
   "outputs": [
    {
     "name": "stdout",
     "output_type": "stream",
     "text": [
      "['The', 'organization', \"'\", 's', 'members', 'are', 'meeting', 'to', 'discuss', 'various', 'strategies', 'for', 'improving', 'productivity', ',', 'including', 'implementing', 'new', 'technologies', ',', 'enhancing', 'communication', 'channels', ',', 'and', 'streamlining', 'workflow', 'processes', '.']\n"
     ]
    }
   ],
   "source": [
    "#Punctuation based tokenizer\n",
    "from nltk.tokenize import WordPunctTokenizer\n",
    "punct_tokenized = WordPunctTokenizer().tokenize(sentence)\n",
    "print(punct_tokenized)\n"
   ]
  },
  {
   "cell_type": "code",
   "execution_count": 6,
   "metadata": {},
   "outputs": [
    {
     "name": "stdout",
     "output_type": "stream",
     "text": [
      "['The', 'organization', \"'s\", 'members', 'are', 'meeting', 'to', 'discuss', 'various', 'strategies', 'for', 'improving', 'productivity', ',', 'including', 'implementing', 'new', 'technologies', ',', 'enhancing', 'communication', 'channels', ',', 'and', 'streamlining', 'workflow', 'processes', '.']\n"
     ]
    }
   ],
   "source": [
    "#tree based tokenizer\n",
    "from nltk.tokenize import TreebankWordTokenizer\n",
    "treebank_tokenized = TreebankWordTokenizer().tokenize(sentence)\n",
    "print(treebank_tokenized)"
   ]
  },
  {
   "cell_type": "code",
   "execution_count": null,
   "metadata": {},
   "outputs": [],
   "source": []
  }
 ],
 "metadata": {
  "kernelspec": {
   "display_name": "Python 3",
   "language": "python",
   "name": "python3"
  },
  "language_info": {
   "codemirror_mode": {
    "name": "ipython",
    "version": 3
   },
   "file_extension": ".py",
   "mimetype": "text/x-python",
   "name": "python",
   "nbconvert_exporter": "python",
   "pygments_lexer": "ipython3",
   "version": "3.9.6"
  }
 },
 "nbformat": 4,
 "nbformat_minor": 2
}
