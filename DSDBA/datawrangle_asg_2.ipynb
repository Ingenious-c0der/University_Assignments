{
 "cells": [
  {
   "cell_type": "code",
   "execution_count": 3,
   "metadata": {},
   "outputs": [],
   "source": [
    "import pandas as pd\n",
    "import seaborn as sns\n",
    "import numpy as np \n",
    "from sklearn.preprocessing import MinMaxScaler"
   ]
  },
  {
   "cell_type": "code",
   "execution_count": null,
   "metadata": {},
   "outputs": [],
   "source": []
  },
  {
   "cell_type": "code",
   "execution_count": 4,
   "metadata": {},
   "outputs": [],
   "source": [
    "df = pd.read_csv(\"xAPI-Edu-Data.csv\")"
   ]
  },
  {
   "cell_type": "code",
   "execution_count": 5,
   "metadata": {},
   "outputs": [
    {
     "data": {
      "text/plain": [
       "61"
      ]
     },
     "execution_count": 5,
     "metadata": {},
     "output_type": "execute_result"
    }
   ],
   "source": [
    "df.isna().sum().sum()"
   ]
  },
  {
   "cell_type": "code",
   "execution_count": 21,
   "metadata": {},
   "outputs": [
    {
     "data": {
      "text/plain": [
       "<AxesSubplot: >"
      ]
     },
     "execution_count": 21,
     "metadata": {},
     "output_type": "execute_result"
    },
    {
     "data": {
      "image/png": "[encoded data removed]",
      "text/plain": [
       "<Figure size 432x288 with 1 Axes>"
      ]
     },
     "metadata": {
      "needs_background": "light"
     },
     "output_type": "display_data"
    }
   ],
   "source": [
    "sns.boxplot(df)"
   ]
  },
  {
   "cell_type": "code",
   "execution_count": 7,
   "metadata": {},
   "outputs": [
    {
     "data": {
      "text/plain": [
       "15.0"
      ]
     },
     "execution_count": 7,
     "metadata": {},
     "output_type": "execute_result"
    }
   ],
   "source": [
    "Q1 = df.raisedhands.quantile(0.25)\n",
    "Q1"
   ]
  },
  {
   "cell_type": "code",
   "execution_count": 8,
   "metadata": {},
   "outputs": [
    {
     "data": {
      "text/plain": [
       "75.0"
      ]
     },
     "execution_count": 8,
     "metadata": {},
     "output_type": "execute_result"
    }
   ],
   "source": [
    "Q3 = df.raisedhands.quantile(0.75)\n",
    "Q3"
   ]
  },
  {
   "cell_type": "code",
   "execution_count": 9,
   "metadata": {},
   "outputs": [],
   "source": [
    "def find_outliers_IQR(df):\n",
    "\n",
    "   q1=df.quantile(0.25)\n",
    "\n",
    "   q3=df.quantile(0.75)\n",
    "\n",
    "   IQR=q3-q1\n",
    "\n",
    "   outliers = df[((df<(q1-1.5*IQR)) | (df>(q3+1.5*IQR)))]\n",
    "\n",
    "   return outliers"
   ]
  },
  {
   "cell_type": "code",
   "execution_count": 1,
   "metadata": {},
   "outputs": [
    {
     "ename": "NameError",
     "evalue": "name 'Q3' is not defined",
     "output_type": "error",
     "traceback": [
      "\u001b[0;31m---------------------------------------------------------------------------\u001b[0m",
      "\u001b[0;31mNameError\u001b[0m                                 Traceback (most recent call last)",
      "\u001b[0;32m<ipython-input-1-0d12e17582ed>\u001b[0m in \u001b[0;36m<module>\u001b[0;34m\u001b[0m\n\u001b[0;32m----> 1\u001b[0;31m \u001b[0mIQR\u001b[0m \u001b[0;34m=\u001b[0m \u001b[0mQ3\u001b[0m\u001b[0;34m-\u001b[0m\u001b[0mQ1\u001b[0m\u001b[0;34m\u001b[0m\u001b[0;34m\u001b[0m\u001b[0m\n\u001b[0m\u001b[1;32m      2\u001b[0m \u001b[0mupper\u001b[0m  \u001b[0;34m=\u001b[0m \u001b[0mQ3\u001b[0m \u001b[0;34m+\u001b[0m\u001b[0;36m1.5\u001b[0m\u001b[0;34m*\u001b[0m\u001b[0mIQR\u001b[0m\u001b[0;34m\u001b[0m\u001b[0;34m\u001b[0m\u001b[0m\n\u001b[1;32m      3\u001b[0m \u001b[0mlower\u001b[0m \u001b[0;34m=\u001b[0m \u001b[0mQ1\u001b[0m \u001b[0;34m-\u001b[0m \u001b[0;36m1.5\u001b[0m\u001b[0;34m*\u001b[0m\u001b[0mIQR\u001b[0m\u001b[0;34m\u001b[0m\u001b[0;34m\u001b[0m\u001b[0m\n",
      "\u001b[0;31mNameError\u001b[0m: name 'Q3' is not defined"
     ]
    }
   ],
   "source": [
    "IQR = Q3-Q1\n",
    "upper  = Q3 +1.5*IQR\n",
    "lower = Q1 - 1.5*IQR"
   ]
  },
  {
   "cell_type": "code",
   "execution_count": 11,
   "metadata": {},
   "outputs": [
    {
     "data": {
      "text/plain": [
       "189    5656.0\n",
       "209     439.0\n",
       "221    2324.0\n",
       "386    3321.0\n",
       "Name: AnnouncementsView, dtype: float64"
      ]
     },
     "execution_count": 11,
     "metadata": {},
     "output_type": "execute_result"
    }
   ],
   "source": [
    "outliers_AV = find_outliers_IQR(df.AnnouncementsView)\n",
    "outliers_AV"
   ]
  },
  {
   "cell_type": "code",
   "execution_count": 12,
   "metadata": {},
   "outputs": [],
   "source": [
    "def drop_outliers_IQR(df):\n",
    "\n",
    "   q1=df.quantile(0.25)\n",
    "\n",
    "   q3=df.quantile(0.75)\n",
    "\n",
    "   IQR=q3-q1\n",
    "\n",
    "\n",
    "   outliers = find_outliers_IQR(df)\n",
    "   check = df[~((df<(q1-1.5*IQR)) | (df>(q3+1.5*IQR)))]\n",
    "\n",
    "   outliers_dropped = df.dropna()\n",
    "\n",
    "   return check"
   ]
  },
  {
   "cell_type": "code",
   "execution_count": 13,
   "metadata": {},
   "outputs": [
    {
     "data": {
      "text/plain": [
       "194    5565.0\n",
       "235    2328.0\n",
       "404    3333.0\n",
       "446    1182.0\n",
       "Name: VisITedResources, dtype: float64"
      ]
     },
     "execution_count": 13,
     "metadata": {},
     "output_type": "execute_result"
    }
   ],
   "source": [
    "outliers_VR = find_outliers_IQR(df.VisITedResources)\n",
    "outliers_VR"
   ]
  },
  {
   "cell_type": "code",
   "execution_count": 14,
   "metadata": {},
   "outputs": [
    {
     "data": {
      "text/plain": [
       "0      16.0\n",
       "1      20.0\n",
       "2       7.0\n",
       "3      25.0\n",
       "4      50.0\n",
       "       ... \n",
       "475     4.0\n",
       "476    77.0\n",
       "477    74.0\n",
       "478    17.0\n",
       "479    14.0\n",
       "Name: VisITedResources, Length: 476, dtype: float64"
      ]
     },
     "execution_count": 14,
     "metadata": {},
     "output_type": "execute_result"
    }
   ],
   "source": [
    "drop_outliers_IQR(df.VisITedResources)"
   ]
  },
  {
   "cell_type": "code",
   "execution_count": 15,
   "metadata": {},
   "outputs": [
    {
     "data": {
      "text/plain": [
       "194    5565.0\n",
       "235    2328.0\n",
       "404    3333.0\n",
       "446    1182.0\n",
       "Name: VisITedResources, dtype: float64"
      ]
     },
     "execution_count": 15,
     "metadata": {},
     "output_type": "execute_result"
    }
   ],
   "source": [
    "outliers_VR = find_outliers_IQR(df.VisITedResources)\n",
    "outliers_VR"
   ]
  },
  {
   "cell_type": "code",
   "execution_count": 16,
   "metadata": {},
   "outputs": [
    {
     "data": {
      "text/plain": [
       "0       2.0\n",
       "1       3.0\n",
       "2       0.0\n",
       "3       5.0\n",
       "4      12.0\n",
       "       ... \n",
       "475     5.0\n",
       "476    14.0\n",
       "477     NaN\n",
       "478    14.0\n",
       "479    23.0\n",
       "Name: AnnouncementsView, Length: 476, dtype: float64"
      ]
     },
     "execution_count": 16,
     "metadata": {},
     "output_type": "execute_result"
    }
   ],
   "source": [
    "x = drop_outliers_IQR(df.AnnouncementsView)\n",
    "x"
   ]
  },
  {
   "cell_type": "code",
   "execution_count": 17,
   "metadata": {},
   "outputs": [],
   "source": [
    "df.dropna(inplace=True)"
   ]
  },
  {
   "cell_type": "code",
   "execution_count": 18,
   "metadata": {},
   "outputs": [
    {
     "data": {
      "text/plain": [
       "0"
      ]
     },
     "execution_count": 18,
     "metadata": {},
     "output_type": "execute_result"
    }
   ],
   "source": [
    "df.isna().sum().sum()"
   ]
  },
  {
   "cell_type": "code",
   "execution_count": 22,
   "metadata": {},
   "outputs": [
    {
     "data": {
      "text/plain": [
       "<AxesSubplot: >"
      ]
     },
     "execution_count": 22,
     "metadata": {},
     "output_type": "execute_result"
    },
    {
     "data": {
      "image/png": "[encoded data removed]",
      "text/plain": [
       "<Figure size 432x288 with 1 Axes>"
      ]
     },
     "metadata": {
      "needs_background": "light"
     },
     "output_type": "display_data"
    }
   ],
   "source": [
    "sns.boxplot(x)"
   ]
  },
  {
   "cell_type": "code",
   "execution_count": 20,
   "metadata": {},
   "outputs": [
    {
     "ename": "ValueError",
     "evalue": "Expected 2D array, got 1D array instead:\narray=[2.000e+00 3.000e+00 0.000e+00 5.000e+00 1.200e+01 1.300e+01 0.000e+00\n 1.600e+01 3.000e+01 0.000e+00 1.200e+01 4.400e+01 2.200e+01 2.000e+01\n 3.500e+01 4.000e+01 3.300e+01 4.000e+00 2.000e+00 3.000e+00 3.000e+01\n 1.200e+01 5.200e+01 3.300e+01 4.000e+01 1.000e+01 8.000e+00 4.000e+00\n 0.000e+00 3.700e+01 3.000e+00 7.000e+00 2.800e+01 3.000e+01 1.500e+01\n 1.000e+00 4.000e+01 5.000e+01 1.200e+01 1.600e+01 1.600e+01 1.900e+01\n 8.000e+00 4.000e+00 1.900e+01 2.200e+01 2.800e+01 3.200e+01 7.000e+01\n 1.600e+01 7.000e+00 1.800e+01 1.900e+01 3.500e+01 1.100e+01 1.000e+01\n 9.000e+00 2.000e+00 2.600e+01 6.000e+00 2.900e+01 1.100e+01 4.900e+01\n 1.000e+01 1.000e+00 1.000e+01 5.000e+01 1.000e+00 1.000e+01 5.500e+01\n 1.900e+01 4.000e+01 3.500e+01 2.000e+00 1.100e+01 3.800e+01 0.000e+00\n 9.000e+00 4.000e+01 5.000e+01 2.000e+00 6.000e+00 3.000e+00 5.000e+00\n 7.000e+00 4.100e+01 5.000e+00 3.000e+01 5.500e+01 5.100e+01 3.000e+00\n 0.000e+00 0.000e+00 1.100e+01 1.200e+01 4.000e+01 2.300e+01 3.000e+00\n 0.000e+00 8.000e+00 5.500e+01 7.000e+00 0.000e+00 7.000e+00 6.000e+00\n 2.000e+01 2.000e+00 5.000e+00 2.000e+01 1.000e+01 0.000e+00 1.500e+01\n 9.500e+01 9.500e+01 5.000e+01 9.500e+01 8.500e+01 5.000e+00 5.000e+01\n 5.500e+01 1.500e+01 5.500e+01 5.000e+01 3.000e+01 3.000e+01 5.000e+01\n 5.100e+01 7.100e+01 9.800e+01 4.000e+01 7.300e+01 3.000e+01 3.300e+01\n 4.800e+01 4.800e+01 5.800e+01 4.500e+01 9.300e+01 8.300e+01 7.300e+01\n 5.300e+01 8.300e+01 2.300e+01 2.900e+01 8.300e+01 2.300e+01 5.300e+01\n 2.300e+01 7.300e+01 1.300e+01 2.300e+01 8.300e+01 3.300e+01 2.000e+01\n 6.300e+01 1.300e+01 6.200e+01 3.200e+01 3.000e+01 8.200e+01 2.200e+01\n 5.200e+01 7.200e+01 5.656e+03 3.200e+01 3.700e+01 6.200e+01 6.200e+01\n 7.200e+01 4.200e+01 6.200e+01 6.200e+01 4.200e+01 1.200e+01 5.200e+01\n 5.200e+01 1.200e+01 4.200e+01 1.200e+01 4.200e+01 4.200e+01 4.200e+01\n 4.900e+01 4.390e+02 8.200e+01 4.200e+01 4.200e+01 2.200e+01 2.000e+00\n 4.200e+01 3.200e+01 4.000e+01 4.200e+01 4.600e+01 4.100e+01 2.324e+03\n 8.200e+01 1.200e+01 2.200e+01 1.200e+01 6.200e+01 2.000e+00 7.700e+01\n 2.100e+01 1.200e+01 2.100e+01 1.500e+01 5.800e+01 5.800e+01 1.800e+01\n 1.300e+01 5.800e+01 5.800e+01 9.800e+01 1.800e+01 3.800e+01 8.300e+01\n 5.200e+01 6.200e+01 8.200e+01 2.000e+00 6.200e+01 3.200e+01 3.200e+01\n 1.200e+01 4.200e+01 1.200e+01 7.200e+01 6.600e+01 8.600e+01 1.200e+01\n 1.200e+01 8.200e+01 5.200e+01 4.200e+01 8.200e+01 1.200e+01 3.200e+01\n 1.000e+01 4.000e+01 5.200e+01 3.200e+01 2.000e+00 6.000e+00 8.200e+01\n 8.000e+01 2.200e+01 4.200e+01 5.200e+01 4.600e+01 5.600e+01 5.600e+01\n 7.200e+01 8.200e+01 3.200e+01 3.500e+01 8.500e+01 6.500e+01 7.600e+01\n 1.200e+01 8.200e+01 7.200e+01 8.200e+01 7.200e+01 8.600e+01 8.200e+01\n 2.600e+01 3.200e+01 2.000e+01 1.500e+01 2.100e+01 2.500e+01 2.900e+01\n 7.400e+01 5.900e+01 7.400e+01 2.900e+01 6.900e+01 7.400e+01 8.900e+01\n 8.300e+01 8.300e+01 1.300e+01 2.300e+01 2.300e+01 2.000e+01 1.000e+01\n 2.000e+01 1.800e+01 3.300e+01 1.000e+01 6.300e+01 2.900e+01 3.000e+01\n 2.900e+01 9.000e+00 1.200e+01 2.000e+01 1.500e+01 1.000e+01 1.100e+01\n 1.300e+01 5.000e+01 2.900e+01 1.500e+01 2.000e+01 1.500e+01 2.000e+01\n 9.000e+00 1.200e+01 4.000e+01 2.100e+01 4.200e+01 4.100e+01 2.100e+01\n 5.200e+01 5.100e+01 3.100e+01 4.100e+01 4.100e+01 2.100e+01 3.100e+01\n 5.100e+01 6.000e+01 5.100e+01 5.000e+01 2.200e+01 1.900e+01 4.000e+01\n 2.900e+01 5.000e+01 5.000e+01 5.900e+01 2.000e+01 2.900e+01 2.000e+01\n 2.900e+01 4.900e+01 3.100e+01 1.100e+01 1.000e+00 5.000e+01 5.000e+01\n 5.700e+01 5.000e+01 5.400e+01 4.600e+01 8.600e+01 4.000e+01 3.400e+01\n 8.000e+01 6.400e+01 7.000e+01 8.700e+01 1.000e+01 1.900e+01 1.000e+01\n 9.000e+00 1.200e+01 1.900e+01 6.600e+01 7.900e+01 2.000e+00 9.000e+00\n 8.600e+01 8.900e+01 7.600e+01 2.900e+01 4.600e+01 4.900e+01 7.600e+01\n 7.900e+01 6.200e+01 6.900e+01 2.000e+00 9.000e+00 2.200e+01 2.300e+01\n 6.200e+01 7.300e+01 7.200e+01 7.100e+01 7.000e+01 7.500e+01 8.600e+01\n 8.500e+01 7.600e+01 6.500e+01 6.400e+01 6.600e+01 7.400e+01 6.700e+01\n 7.400e+01 7.700e+01 2.200e+01 2.000e+01 5.200e+01 4.000e+01 5.700e+01\n 4.300e+01 5.200e+01 8.000e+01 8.200e+01 8.300e+01 8.300e+01 4.200e+01\n 4.500e+01 6.400e+01 6.300e+01 1.400e+01 1.500e+01 8.600e+01 7.800e+01\n 7.900e+01 4.000e+00 5.000e+00 1.400e+01 1.400e+01 2.300e+01].\nReshape your data either using array.reshape(-1, 1) if your data has a single feature or array.reshape(1, -1) if it contains a single sample.",
     "output_type": "error",
     "traceback": [
      "\u001b[0;31m---------------------------------------------------------------------------\u001b[0m",
      "\u001b[0;31mValueError\u001b[0m                                Traceback (most recent call last)",
      "\u001b[0;32m<ipython-input-20-2da2f9aa1f99>\u001b[0m in \u001b[0;36m<module>\u001b[0;34m\u001b[0m\n\u001b[1;32m      1\u001b[0m \u001b[0mscaler\u001b[0m \u001b[0;34m=\u001b[0m \u001b[0mMinMaxScaler\u001b[0m\u001b[0;34m(\u001b[0m\u001b[0;34m)\u001b[0m\u001b[0;34m\u001b[0m\u001b[0;34m\u001b[0m\u001b[0m\n\u001b[1;32m      2\u001b[0m \u001b[0;34m\u001b[0m\u001b[0m\n\u001b[0;32m----> 3\u001b[0;31m \u001b[0mdf_scaled\u001b[0m \u001b[0;34m=\u001b[0m \u001b[0mscaler\u001b[0m\u001b[0;34m.\u001b[0m\u001b[0mfit_transform\u001b[0m\u001b[0;34m(\u001b[0m\u001b[0mdf\u001b[0m\u001b[0;34m.\u001b[0m\u001b[0mAnnouncementsView\u001b[0m\u001b[0;34m.\u001b[0m\u001b[0mto_numpy\u001b[0m\u001b[0;34m(\u001b[0m\u001b[0;34m)\u001b[0m\u001b[0;34m)\u001b[0m\u001b[0;34m\u001b[0m\u001b[0;34m\u001b[0m\u001b[0m\n\u001b[0m\u001b[1;32m      4\u001b[0m \u001b[0;34m\u001b[0m\u001b[0m\n\u001b[1;32m      5\u001b[0m \u001b[0mdf_scaled\u001b[0m \u001b[0;34m=\u001b[0m \u001b[0mpd\u001b[0m\u001b[0;34m.\u001b[0m\u001b[0mDataFrame\u001b[0m\u001b[0;34m(\u001b[0m\u001b[0mdf_scaled\u001b[0m\u001b[0;34m,\u001b[0m \u001b[0mcolumns\u001b[0m\u001b[0;34m=\u001b[0m\u001b[0;34m[\u001b[0m\u001b[0;34m'AnnouncementsView'\u001b[0m\u001b[0;34m]\u001b[0m\u001b[0;34m)\u001b[0m\u001b[0;34m\u001b[0m\u001b[0;34m\u001b[0m\u001b[0m\n",
      "\u001b[0;32m~/.local/lib/python3.8/site-packages/sklearn/utils/_set_output.py\u001b[0m in \u001b[0;36mwrapped\u001b[0;34m(self, X, *args, **kwargs)\u001b[0m\n\u001b[1;32m    140\u001b[0m     \u001b[0;34m@\u001b[0m\u001b[0mwraps\u001b[0m\u001b[0;34m(\u001b[0m\u001b[0mf\u001b[0m\u001b[0;34m)\u001b[0m\u001b[0;34m\u001b[0m\u001b[0;34m\u001b[0m\u001b[0m\n\u001b[1;32m    141\u001b[0m     \u001b[0;32mdef\u001b[0m \u001b[0mwrapped\u001b[0m\u001b[0;34m(\u001b[0m\u001b[0mself\u001b[0m\u001b[0;34m,\u001b[0m \u001b[0mX\u001b[0m\u001b[0;34m,\u001b[0m \u001b[0;34m*\u001b[0m\u001b[0margs\u001b[0m\u001b[0;34m,\u001b[0m \u001b[0;34m**\u001b[0m\u001b[0mkwargs\u001b[0m\u001b[0;34m)\u001b[0m\u001b[0;34m:\u001b[0m\u001b[0;34m\u001b[0m\u001b[0;34m\u001b[0m\u001b[0m\n\u001b[0;32m--> 142\u001b[0;31m         \u001b[0mdata_to_wrap\u001b[0m \u001b[0;34m=\u001b[0m \u001b[0mf\u001b[0m\u001b[0;34m(\u001b[0m\u001b[0mself\u001b[0m\u001b[0;34m,\u001b[0m \u001b[0mX\u001b[0m\u001b[0;34m,\u001b[0m \u001b[0;34m*\u001b[0m\u001b[0margs\u001b[0m\u001b[0;34m,\u001b[0m \u001b[0;34m**\u001b[0m\u001b[0mkwargs\u001b[0m\u001b[0;34m)\u001b[0m\u001b[0;34m\u001b[0m\u001b[0;34m\u001b[0m\u001b[0m\n\u001b[0m\u001b[1;32m    143\u001b[0m         \u001b[0;32mif\u001b[0m \u001b[0misinstance\u001b[0m\u001b[0;34m(\u001b[0m\u001b[0mdata_to_wrap\u001b[0m\u001b[0;34m,\u001b[0m \u001b[0mtuple\u001b[0m\u001b[0;34m)\u001b[0m\u001b[0;34m:\u001b[0m\u001b[0;34m\u001b[0m\u001b[0;34m\u001b[0m\u001b[0m\n\u001b[1;32m    144\u001b[0m             \u001b[0;31m# only wrap the first output for cross decomposition\u001b[0m\u001b[0;34m\u001b[0m\u001b[0;34m\u001b[0m\u001b[0;34m\u001b[0m\u001b[0m\n",
      "\u001b[0;32m~/.local/lib/python3.8/site-packages/sklearn/base.py\u001b[0m in \u001b[0;36mfit_transform\u001b[0;34m(self, X, y, **fit_params)\u001b[0m\n\u001b[1;32m    857\u001b[0m         \u001b[0;32mif\u001b[0m \u001b[0my\u001b[0m \u001b[0;32mis\u001b[0m \u001b[0;32mNone\u001b[0m\u001b[0;34m:\u001b[0m\u001b[0;34m\u001b[0m\u001b[0;34m\u001b[0m\u001b[0m\n\u001b[1;32m    858\u001b[0m             \u001b[0;31m# fit method of arity 1 (unsupervised transformation)\u001b[0m\u001b[0;34m\u001b[0m\u001b[0;34m\u001b[0m\u001b[0;34m\u001b[0m\u001b[0m\n\u001b[0;32m--> 859\u001b[0;31m             \u001b[0;32mreturn\u001b[0m \u001b[0mself\u001b[0m\u001b[0;34m.\u001b[0m\u001b[0mfit\u001b[0m\u001b[0;34m(\u001b[0m\u001b[0mX\u001b[0m\u001b[0;34m,\u001b[0m \u001b[0;34m**\u001b[0m\u001b[0mfit_params\u001b[0m\u001b[0;34m)\u001b[0m\u001b[0;34m.\u001b[0m\u001b[0mtransform\u001b[0m\u001b[0;34m(\u001b[0m\u001b[0mX\u001b[0m\u001b[0;34m)\u001b[0m\u001b[0;34m\u001b[0m\u001b[0;34m\u001b[0m\u001b[0m\n\u001b[0m\u001b[1;32m    860\u001b[0m         \u001b[0;32melse\u001b[0m\u001b[0;34m:\u001b[0m\u001b[0;34m\u001b[0m\u001b[0;34m\u001b[0m\u001b[0m\n\u001b[1;32m    861\u001b[0m             \u001b[0;31m# fit method of arity 2 (supervised transformation)\u001b[0m\u001b[0;34m\u001b[0m\u001b[0;34m\u001b[0m\u001b[0;34m\u001b[0m\u001b[0m\n",
      "\u001b[0;32m~/.local/lib/python3.8/site-packages/sklearn/preprocessing/_data.py\u001b[0m in \u001b[0;36mfit\u001b[0;34m(self, X, y)\u001b[0m\n\u001b[1;32m    425\u001b[0m         \u001b[0;31m# Reset internal state before fitting\u001b[0m\u001b[0;34m\u001b[0m\u001b[0;34m\u001b[0m\u001b[0;34m\u001b[0m\u001b[0m\n\u001b[1;32m    426\u001b[0m         \u001b[0mself\u001b[0m\u001b[0;34m.\u001b[0m\u001b[0m_reset\u001b[0m\u001b[0;34m(\u001b[0m\u001b[0;34m)\u001b[0m\u001b[0;34m\u001b[0m\u001b[0;34m\u001b[0m\u001b[0m\n\u001b[0;32m--> 427\u001b[0;31m         \u001b[0;32mreturn\u001b[0m \u001b[0mself\u001b[0m\u001b[0;34m.\u001b[0m\u001b[0mpartial_fit\u001b[0m\u001b[0;34m(\u001b[0m\u001b[0mX\u001b[0m\u001b[0;34m,\u001b[0m \u001b[0my\u001b[0m\u001b[0;34m)\u001b[0m\u001b[0;34m\u001b[0m\u001b[0;34m\u001b[0m\u001b[0m\n\u001b[0m\u001b[1;32m    428\u001b[0m \u001b[0;34m\u001b[0m\u001b[0m\n\u001b[1;32m    429\u001b[0m     \u001b[0;32mdef\u001b[0m \u001b[0mpartial_fit\u001b[0m\u001b[0;34m(\u001b[0m\u001b[0mself\u001b[0m\u001b[0;34m,\u001b[0m \u001b[0mX\u001b[0m\u001b[0;34m,\u001b[0m \u001b[0my\u001b[0m\u001b[0;34m=\u001b[0m\u001b[0;32mNone\u001b[0m\u001b[0;34m)\u001b[0m\u001b[0;34m:\u001b[0m\u001b[0;34m\u001b[0m\u001b[0;34m\u001b[0m\u001b[0m\n",
      "\u001b[0;32m~/.local/lib/python3.8/site-packages/sklearn/preprocessing/_data.py\u001b[0m in \u001b[0;36mpartial_fit\u001b[0;34m(self, X, y)\u001b[0m\n\u001b[1;32m    464\u001b[0m \u001b[0;34m\u001b[0m\u001b[0m\n\u001b[1;32m    465\u001b[0m         \u001b[0mfirst_pass\u001b[0m \u001b[0;34m=\u001b[0m \u001b[0;32mnot\u001b[0m \u001b[0mhasattr\u001b[0m\u001b[0;34m(\u001b[0m\u001b[0mself\u001b[0m\u001b[0;34m,\u001b[0m \u001b[0;34m\"n_samples_seen_\"\u001b[0m\u001b[0;34m)\u001b[0m\u001b[0;34m\u001b[0m\u001b[0;34m\u001b[0m\u001b[0m\n\u001b[0;32m--> 466\u001b[0;31m         X = self._validate_data(\n\u001b[0m\u001b[1;32m    467\u001b[0m             \u001b[0mX\u001b[0m\u001b[0;34m,\u001b[0m\u001b[0;34m\u001b[0m\u001b[0;34m\u001b[0m\u001b[0m\n\u001b[1;32m    468\u001b[0m             \u001b[0mreset\u001b[0m\u001b[0;34m=\u001b[0m\u001b[0mfirst_pass\u001b[0m\u001b[0;34m,\u001b[0m\u001b[0;34m\u001b[0m\u001b[0;34m\u001b[0m\u001b[0m\n",
      "\u001b[0;32m~/.local/lib/python3.8/site-packages/sklearn/base.py\u001b[0m in \u001b[0;36m_validate_data\u001b[0;34m(self, X, y, reset, validate_separately, **check_params)\u001b[0m\n\u001b[1;32m    544\u001b[0m             \u001b[0;32mraise\u001b[0m \u001b[0mValueError\u001b[0m\u001b[0;34m(\u001b[0m\u001b[0;34m\"Validation should be done on X, y or both.\"\u001b[0m\u001b[0;34m)\u001b[0m\u001b[0;34m\u001b[0m\u001b[0;34m\u001b[0m\u001b[0m\n\u001b[1;32m    545\u001b[0m         \u001b[0;32melif\u001b[0m \u001b[0;32mnot\u001b[0m \u001b[0mno_val_X\u001b[0m \u001b[0;32mand\u001b[0m \u001b[0mno_val_y\u001b[0m\u001b[0;34m:\u001b[0m\u001b[0;34m\u001b[0m\u001b[0;34m\u001b[0m\u001b[0m\n\u001b[0;32m--> 546\u001b[0;31m             \u001b[0mX\u001b[0m \u001b[0;34m=\u001b[0m \u001b[0mcheck_array\u001b[0m\u001b[0;34m(\u001b[0m\u001b[0mX\u001b[0m\u001b[0;34m,\u001b[0m \u001b[0minput_name\u001b[0m\u001b[0;34m=\u001b[0m\u001b[0;34m\"X\"\u001b[0m\u001b[0;34m,\u001b[0m \u001b[0;34m**\u001b[0m\u001b[0mcheck_params\u001b[0m\u001b[0;34m)\u001b[0m\u001b[0;34m\u001b[0m\u001b[0;34m\u001b[0m\u001b[0m\n\u001b[0m\u001b[1;32m    547\u001b[0m             \u001b[0mout\u001b[0m \u001b[0;34m=\u001b[0m \u001b[0mX\u001b[0m\u001b[0;34m\u001b[0m\u001b[0;34m\u001b[0m\u001b[0m\n\u001b[1;32m    548\u001b[0m         \u001b[0;32melif\u001b[0m \u001b[0mno_val_X\u001b[0m \u001b[0;32mand\u001b[0m \u001b[0;32mnot\u001b[0m \u001b[0mno_val_y\u001b[0m\u001b[0;34m:\u001b[0m\u001b[0;34m\u001b[0m\u001b[0;34m\u001b[0m\u001b[0m\n",
      "\u001b[0;32m~/.local/lib/python3.8/site-packages/sklearn/utils/validation.py\u001b[0m in \u001b[0;36mcheck_array\u001b[0;34m(array, accept_sparse, accept_large_sparse, dtype, order, copy, force_all_finite, ensure_2d, allow_nd, ensure_min_samples, ensure_min_features, estimator, input_name)\u001b[0m\n\u001b[1;32m    900\u001b[0m             \u001b[0;31m# If input is 1D raise error\u001b[0m\u001b[0;34m\u001b[0m\u001b[0;34m\u001b[0m\u001b[0;34m\u001b[0m\u001b[0m\n\u001b[1;32m    901\u001b[0m             \u001b[0;32mif\u001b[0m \u001b[0marray\u001b[0m\u001b[0;34m.\u001b[0m\u001b[0mndim\u001b[0m \u001b[0;34m==\u001b[0m \u001b[0;36m1\u001b[0m\u001b[0;34m:\u001b[0m\u001b[0;34m\u001b[0m\u001b[0;34m\u001b[0m\u001b[0m\n\u001b[0;32m--> 902\u001b[0;31m                 raise ValueError(\n\u001b[0m\u001b[1;32m    903\u001b[0m                     \u001b[0;34m\"Expected 2D array, got 1D array instead:\\narray={}.\\n\"\u001b[0m\u001b[0;34m\u001b[0m\u001b[0;34m\u001b[0m\u001b[0m\n\u001b[1;32m    904\u001b[0m                     \u001b[0;34m\"Reshape your data either using array.reshape(-1, 1) if \"\u001b[0m\u001b[0;34m\u001b[0m\u001b[0;34m\u001b[0m\u001b[0m\n",
      "\u001b[0;31mValueError\u001b[0m: Expected 2D array, got 1D array instead:\narray=[2.000e+00 3.000e+00 0.000e+00 5.000e+00 1.200e+01 1.300e+01 0.000e+00\n 1.600e+01 3.000e+01 0.000e+00 1.200e+01 4.400e+01 2.200e+01 2.000e+01\n 3.500e+01 4.000e+01 3.300e+01 4.000e+00 2.000e+00 3.000e+00 3.000e+01\n 1.200e+01 5.200e+01 3.300e+01 4.000e+01 1.000e+01 8.000e+00 4.000e+00\n 0.000e+00 3.700e+01 3.000e+00 7.000e+00 2.800e+01 3.000e+01 1.500e+01\n 1.000e+00 4.000e+01 5.000e+01 1.200e+01 1.600e+01 1.600e+01 1.900e+01\n 8.000e+00 4.000e+00 1.900e+01 2.200e+01 2.800e+01 3.200e+01 7.000e+01\n 1.600e+01 7.000e+00 1.800e+01 1.900e+01 3.500e+01 1.100e+01 1.000e+01\n 9.000e+00 2.000e+00 2.600e+01 6.000e+00 2.900e+01 1.100e+01 4.900e+01\n 1.000e+01 1.000e+00 1.000e+01 5.000e+01 1.000e+00 1.000e+01 5.500e+01\n 1.900e+01 4.000e+01 3.500e+01 2.000e+00 1.100e+01 3.800e+01 0.000e+00\n 9.000e+00 4.000e+01 5.000e+01 2.000e+00 6.000e+00 3.000e+00 5.000e+00\n 7.000e+00 4.100e+01 5.000e+00 3.000e+01 5.500e+01 5.100e+01 3.000e+00\n 0.000e+00 0.000e+00 1.100e+01 1.200e+01 4.000e+01 2.300e+01 3.000e+00\n 0.000e+00 8.000e+00 5.500e+01 7.000e+00 0.000e+00 7.000e+00 6.000e+00\n 2.000e+01 2.000e+00 5.000e+00 2.000e+01 1.000e+01 0.000e+00 1.500e+01\n 9.500e+01 9.500e+01 5.000e+01 9.500e+01 8.500e+01 5.000e+00 5.000e+01\n 5.500e+01 1.500e+01 5.500e+01 5.000e+01 3.000e+01 3.000e+01 5.000e+01\n 5.100e+01 7.100e+01 9.800e+01 4.000e+01 7.300e+01 3.000e+01 3.300e+01\n 4.800e+01 4.800e+01 5.800e+01 4.500e+01 9.300e+01 8.300e+01 7.300e+01\n 5.300e+01 8.300e+01 2.300e+01 2.900e+01 8.300e+01 2.300e+01 5.300e+01\n 2.300e+01 7.300e+01 1.300e+01 2.300e+01 8.300e+01 3.300e+01 2.000e+01\n 6.300e+01 1.300e+01 6.200e+01 3.200e+01 3.000e+01 8.200e+01 2.200e+01\n 5.200e+01 7.200e+01 5.656e+03 3.200e+01 3.700e+01 6.200e+01 6.200e+01\n 7.200e+01 4.200e+01 6.200e+01 6.200e+01 4.200e+01 1.200e+01 5.200e+01\n 5.200e+01 1.200e+01 4.200e+01 1.200e+01 4.200e+01 4.200e+01 4.200e+01\n 4.900e+01 4.390e+02 8.200e+01 4.200e+01 4.200e+01 2.200e+01 2.000e+00\n 4.200e+01 3.200e+01 4.000e+01 4.200e+01 4.600e+01 4.100e+01 2.324e+03\n 8.200e+01 1.200e+01 2.200e+01 1.200e+01 6.200e+01 2.000e+00 7.700e+01\n 2.100e+01 1.200e+01 2.100e+01 1.500e+01 5.800e+01 5.800e+01 1.800e+01\n 1.300e+01 5.800e+01 5.800e+01 9.800e+01 1.800e+01 3.800e+01 8.300e+01\n 5.200e+01 6.200e+01 8.200e+01 2.000e+00 6.200e+01 3.200e+01 3.200e+01\n 1.200e+01 4.200e+01 1.200e+01 7.200e+01 6.600e+01 8.600e+01 1.200e+01\n 1.200e+01 8.200e+01 5.200e+01 4.200e+01 8.200e+01 1.200e+01 3.200e+01\n 1.000e+01 4.000e+01 5.200e+01 3.200e+01 2.000e+00 6.000e+00 8.200e+01\n 8.000e+01 2.200e+01 4.200e+01 5.200e+01 4.600e+01 5.600e+01 5.600e+01\n 7.200e+01 8.200e+01 3.200e+01 3.500e+01 8.500e+01 6.500e+01 7.600e+01\n 1.200e+01 8.200e+01 7.200e+01 8.200e+01 7.200e+01 8.600e+01 8.200e+01\n 2.600e+01 3.200e+01 2.000e+01 1.500e+01 2.100e+01 2.500e+01 2.900e+01\n 7.400e+01 5.900e+01 7.400e+01 2.900e+01 6.900e+01 7.400e+01 8.900e+01\n 8.300e+01 8.300e+01 1.300e+01 2.300e+01 2.300e+01 2.000e+01 1.000e+01\n 2.000e+01 1.800e+01 3.300e+01 1.000e+01 6.300e+01 2.900e+01 3.000e+01\n 2.900e+01 9.000e+00 1.200e+01 2.000e+01 1.500e+01 1.000e+01 1.100e+01\n 1.300e+01 5.000e+01 2.900e+01 1.500e+01 2.000e+01 1.500e+01 2.000e+01\n 9.000e+00 1.200e+01 4.000e+01 2.100e+01 4.200e+01 4.100e+01 2.100e+01\n 5.200e+01 5.100e+01 3.100e+01 4.100e+01 4.100e+01 2.100e+01 3.100e+01\n 5.100e+01 6.000e+01 5.100e+01 5.000e+01 2.200e+01 1.900e+01 4.000e+01\n 2.900e+01 5.000e+01 5.000e+01 5.900e+01 2.000e+01 2.900e+01 2.000e+01\n 2.900e+01 4.900e+01 3.100e+01 1.100e+01 1.000e+00 5.000e+01 5.000e+01\n 5.700e+01 5.000e+01 5.400e+01 4.600e+01 8.600e+01 4.000e+01 3.400e+01\n 8.000e+01 6.400e+01 7.000e+01 8.700e+01 1.000e+01 1.900e+01 1.000e+01\n 9.000e+00 1.200e+01 1.900e+01 6.600e+01 7.900e+01 2.000e+00 9.000e+00\n 8.600e+01 8.900e+01 7.600e+01 2.900e+01 4.600e+01 4.900e+01 7.600e+01\n 7.900e+01 6.200e+01 6.900e+01 2.000e+00 9.000e+00 2.200e+01 2.300e+01\n 6.200e+01 7.300e+01 7.200e+01 7.100e+01 7.000e+01 7.500e+01 8.600e+01\n 8.500e+01 7.600e+01 6.500e+01 6.400e+01 6.600e+01 7.400e+01 6.700e+01\n 7.400e+01 7.700e+01 2.200e+01 2.000e+01 5.200e+01 4.000e+01 5.700e+01\n 4.300e+01 5.200e+01 8.000e+01 8.200e+01 8.300e+01 8.300e+01 4.200e+01\n 4.500e+01 6.400e+01 6.300e+01 1.400e+01 1.500e+01 8.600e+01 7.800e+01\n 7.900e+01 4.000e+00 5.000e+00 1.400e+01 1.400e+01 2.300e+01].\nReshape your data either using array.reshape(-1, 1) if your data has a single feature or array.reshape(1, -1) if it contains a single sample."
     ]
    }
   ],
   "source": [
    "scaler = MinMaxScaler()\n",
    " \n",
    "df_scaled = scaler.fit_transform(df.AnnouncementsView.to_numpy())\n",
    "\n",
    "df_scaled = pd.DataFrame(df_scaled, columns=['AnnouncementsView'])"
   ]
  },
  {
   "cell_type": "code",
   "execution_count": null,
   "metadata": {},
   "outputs": [
    {
     "data": {
      "text/plain": [
       "array([['M', 'KW', 'KuwaIT', ..., 'Good', 'Under-7', 'M'],\n",
       "       ['M', 'KW', 'KuwaIT', ..., 'Good', 'Under-7', 'M'],\n",
       "       ['M', 'KW', 'KuwaIT', ..., 'Bad', 'Above-7', 'L'],\n",
       "       ...,\n",
       "       ['F', 'Jordan', 'Jordan', ..., 'Bad', 'Under-7', 'M'],\n",
       "       ['F', 'Jordan', 'Jordan', ..., 'Bad', 'Above-7', 'L'],\n",
       "       ['F', 'Jordan', 'Jordan', ..., 'Bad', 'Above-7', 'L']],\n",
       "      dtype=object)"
      ]
     },
     "execution_count": 66,
     "metadata": {},
     "output_type": "execute_result"
    }
   ],
   "source": [
    "df.to_numpy()"
   ]
  },
  {
   "cell_type": "code",
   "execution_count": null,
   "metadata": {},
   "outputs": [
    {
     "data": {
      "text/plain": [
       "0    0.000354\n",
       "1    0.000530\n",
       "2    0.000000\n",
       "3    0.000884\n",
       "4    0.002122\n",
       "Name: AnnouncementsView, dtype: float64"
      ]
     },
     "execution_count": 69,
     "metadata": {},
     "output_type": "execute_result"
    }
   ],
   "source": [
    "ac = df.AnnouncementsView\n",
    "df_ac_norm = ((ac - ac.min())/(ac.max() - ac.min()))\n",
    "df_ac_norm.head()"
   ]
  }
 ],
 "metadata": {
  "kernelspec": {
   "display_name": "Python 3",
   "language": "python",
   "name": "python3"
  },
  "language_info": {
   "codemirror_mode": {
    "name": "ipython",
    "version": 3
   },
   "file_extension": ".py",
   "mimetype": "text/x-python",
   "name": "python",
   "nbconvert_exporter": "python",
   "pygments_lexer": "ipython3",
   "version": "3.8.10"
  },
  "orig_nbformat": 4,
  "vscode": {
   "interpreter": {
    "hash": "916dbcbb3f70747c44a77c7bcd40155683ae19c65e1c03b4aa3499c5328201f1"
   }
  }
 },
 "nbformat": 4,
 "nbformat_minor": 2
}
