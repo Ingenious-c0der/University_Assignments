{
 "cells": [
  {
   "cell_type": "code",
   "execution_count": 1,
   "metadata": {},
   "outputs": [
    {
     "name": "stdout",
     "output_type": "stream",
     "text": [
      "             mean  median     min     max          std\n",
      "Age Group                                             \n",
      "15-25       55000   55000   50000   60000  7071.067812\n",
      "25-35       75000   75000   70000   80000  7071.067812\n",
      "35-45       95000   95000   90000  100000  7071.067812\n",
      "45-55      115000  115000  110000  120000  7071.067812\n",
      "55-65      135000  135000  130000  140000  7071.067812\n",
      "65-75      155000  155000  150000  160000  7071.067812\n",
      "75+        175000  175000  170000  180000  7071.067812\n"
     ]
    }
   ],
   "source": [
    "import pandas as pd\n",
    "\n",
    "# Create a sample DataFrame\n",
    "data = {'Age': [18, 22, 25, 30, 35, 40, 45, 50, 55, 60, 65, 70, 75, 80],\n",
    "        'Income': [50000, 60000, 70000, 80000, 90000, 100000, 110000, 120000, 130000, 140000, 150000, 160000, 170000, 180000]}\n",
    "df = pd.DataFrame(data)\n",
    "\n",
    "# Define the bucket ranges for age\n",
    "age_bins = [15, 25, 35, 45, 55, 65, 75, 85]\n",
    "age_labels = ['15-25', '25-35', '35-45', '45-55', '55-65', '65-75', '75+']\n",
    "\n",
    "# Add a new column to the DataFrame with age groups\n",
    "df['Age Group'] = pd.cut(df['Age'], bins=age_bins, labels=age_labels, right=False)\n",
    "\n",
    "# Group the data by age group and calculate summary statistics for income\n",
    "summary_stats = df.groupby('Age Group')['Income'].agg(['mean', 'median', 'min', 'max', 'std'])\n",
    "\n",
    "# Print the summary statistics\n",
    "print(summary_stats)"
   ]
  }
 ],
 "metadata": {
  "kernelspec": {
   "display_name": "Python 3",
   "language": "python",
   "name": "python3"
  },
  "language_info": {
   "codemirror_mode": {
    "name": "ipython",
    "version": 3
   },
   "file_extension": ".py",
   "mimetype": "text/x-python",
   "name": "python",
   "nbconvert_exporter": "python",
   "pygments_lexer": "ipython3",
   "version": "3.9.1"
  },
  "orig_nbformat": 4
 },
 "nbformat": 4,
 "nbformat_minor": 2
}
